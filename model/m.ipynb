{
 "cells": [
  {
   "cell_type": "code",
   "execution_count": 1,
   "metadata": {},
   "outputs": [],
   "source": [
    "import pandas as pd\n",
    "import matplotlib.pyplot as plt\n",
    "import numpy as np"
   ]
  },
  {
   "cell_type": "code",
   "execution_count": 2,
   "metadata": {},
   "outputs": [
    {
     "data": {
      "text/html": [
       "<div>\n",
       "<style scoped>\n",
       "    .dataframe tbody tr th:only-of-type {\n",
       "        vertical-align: middle;\n",
       "    }\n",
       "\n",
       "    .dataframe tbody tr th {\n",
       "        vertical-align: top;\n",
       "    }\n",
       "\n",
       "    .dataframe thead th {\n",
       "        text-align: right;\n",
       "    }\n",
       "</style>\n",
       "<table border=\"1\" class=\"dataframe\">\n",
       "  <thead>\n",
       "    <tr style=\"text-align: right;\">\n",
       "      <th></th>\n",
       "      <th>area_type</th>\n",
       "      <th>availability</th>\n",
       "      <th>location</th>\n",
       "      <th>size</th>\n",
       "      <th>society</th>\n",
       "      <th>total_sqft</th>\n",
       "      <th>bath</th>\n",
       "      <th>balcony</th>\n",
       "      <th>price</th>\n",
       "    </tr>\n",
       "  </thead>\n",
       "  <tbody>\n",
       "    <tr>\n",
       "      <th>13230</th>\n",
       "      <td>Super built-up  Area</td>\n",
       "      <td>Ready To Move</td>\n",
       "      <td>Uttarahalli</td>\n",
       "      <td>3 BHK</td>\n",
       "      <td>Aklia R</td>\n",
       "      <td>1590</td>\n",
       "      <td>3.0</td>\n",
       "      <td>2.0</td>\n",
       "      <td>57.0</td>\n",
       "    </tr>\n",
       "    <tr>\n",
       "      <th>3664</th>\n",
       "      <td>Super built-up  Area</td>\n",
       "      <td>Ready To Move</td>\n",
       "      <td>Rajarajeshwari Nagara</td>\n",
       "      <td>3 BHK</td>\n",
       "      <td>NaN</td>\n",
       "      <td>2000</td>\n",
       "      <td>3.0</td>\n",
       "      <td>2.0</td>\n",
       "      <td>85.0</td>\n",
       "    </tr>\n",
       "    <tr>\n",
       "      <th>6698</th>\n",
       "      <td>Super built-up  Area</td>\n",
       "      <td>Ready To Move</td>\n",
       "      <td>NGR Layout</td>\n",
       "      <td>1 BHK</td>\n",
       "      <td>DSestre</td>\n",
       "      <td>907</td>\n",
       "      <td>1.0</td>\n",
       "      <td>1.0</td>\n",
       "      <td>38.0</td>\n",
       "    </tr>\n",
       "    <tr>\n",
       "      <th>10604</th>\n",
       "      <td>Super built-up  Area</td>\n",
       "      <td>Ready To Move</td>\n",
       "      <td>Electronic City Phase II</td>\n",
       "      <td>1 BHK</td>\n",
       "      <td>Srrlsnu</td>\n",
       "      <td>650</td>\n",
       "      <td>1.0</td>\n",
       "      <td>1.0</td>\n",
       "      <td>35.0</td>\n",
       "    </tr>\n",
       "    <tr>\n",
       "      <th>5313</th>\n",
       "      <td>Built-up  Area</td>\n",
       "      <td>Ready To Move</td>\n",
       "      <td>Rajaji Nagar</td>\n",
       "      <td>2 BHK</td>\n",
       "      <td>Brway G</td>\n",
       "      <td>1440</td>\n",
       "      <td>2.0</td>\n",
       "      <td>2.0</td>\n",
       "      <td>170.0</td>\n",
       "    </tr>\n",
       "  </tbody>\n",
       "</table>\n",
       "</div>"
      ],
      "text/plain": [
       "                  area_type   availability                  location   size  \\\n",
       "13230  Super built-up  Area  Ready To Move               Uttarahalli  3 BHK   \n",
       "3664   Super built-up  Area  Ready To Move     Rajarajeshwari Nagara  3 BHK   \n",
       "6698   Super built-up  Area  Ready To Move                NGR Layout  1 BHK   \n",
       "10604  Super built-up  Area  Ready To Move  Electronic City Phase II  1 BHK   \n",
       "5313         Built-up  Area  Ready To Move              Rajaji Nagar  2 BHK   \n",
       "\n",
       "       society total_sqft  bath  balcony  price  \n",
       "13230  Aklia R       1590   3.0      2.0   57.0  \n",
       "3664       NaN       2000   3.0      2.0   85.0  \n",
       "6698   DSestre        907   1.0      1.0   38.0  \n",
       "10604  Srrlsnu        650   1.0      1.0   35.0  \n",
       "5313   Brway G       1440   2.0      2.0  170.0  "
      ]
     },
     "execution_count": 2,
     "metadata": {},
     "output_type": "execute_result"
    }
   ],
   "source": [
    "df = pd.read_csv(\"./benglore_house_prices.csv\")\n",
    "df.sample(5)"
   ]
  },
  {
   "cell_type": "code",
   "execution_count": 3,
   "metadata": {},
   "outputs": [
    {
     "data": {
      "text/plain": [
       "(13320, 9)"
      ]
     },
     "execution_count": 3,
     "metadata": {},
     "output_type": "execute_result"
    }
   ],
   "source": [
    "df.shape"
   ]
  },
  {
   "cell_type": "code",
   "execution_count": 4,
   "metadata": {},
   "outputs": [],
   "source": [
    "df.drop([\"availability\" , \"area_type\" ,\"society\" , \"balcony\"] , axis=1 , inplace=True)"
   ]
  },
  {
   "cell_type": "code",
   "execution_count": 5,
   "metadata": {},
   "outputs": [
    {
     "data": {
      "text/html": [
       "<div>\n",
       "<style scoped>\n",
       "    .dataframe tbody tr th:only-of-type {\n",
       "        vertical-align: middle;\n",
       "    }\n",
       "\n",
       "    .dataframe tbody tr th {\n",
       "        vertical-align: top;\n",
       "    }\n",
       "\n",
       "    .dataframe thead th {\n",
       "        text-align: right;\n",
       "    }\n",
       "</style>\n",
       "<table border=\"1\" class=\"dataframe\">\n",
       "  <thead>\n",
       "    <tr style=\"text-align: right;\">\n",
       "      <th></th>\n",
       "      <th>location</th>\n",
       "      <th>size</th>\n",
       "      <th>total_sqft</th>\n",
       "      <th>bath</th>\n",
       "      <th>price</th>\n",
       "    </tr>\n",
       "  </thead>\n",
       "  <tbody>\n",
       "    <tr>\n",
       "      <th>3454</th>\n",
       "      <td>Benson Town</td>\n",
       "      <td>2 BHK</td>\n",
       "      <td>1480</td>\n",
       "      <td>2.0</td>\n",
       "      <td>120.0</td>\n",
       "    </tr>\n",
       "    <tr>\n",
       "      <th>6050</th>\n",
       "      <td>NTI Layout</td>\n",
       "      <td>2 BHK</td>\n",
       "      <td>1200</td>\n",
       "      <td>2.0</td>\n",
       "      <td>52.5</td>\n",
       "    </tr>\n",
       "    <tr>\n",
       "      <th>6342</th>\n",
       "      <td>Ambalipura</td>\n",
       "      <td>4 BHK</td>\n",
       "      <td>3300</td>\n",
       "      <td>4.0</td>\n",
       "      <td>329.0</td>\n",
       "    </tr>\n",
       "  </tbody>\n",
       "</table>\n",
       "</div>"
      ],
      "text/plain": [
       "         location   size total_sqft  bath  price\n",
       "3454  Benson Town  2 BHK       1480   2.0  120.0\n",
       "6050   NTI Layout  2 BHK       1200   2.0   52.5\n",
       "6342   Ambalipura  4 BHK       3300   4.0  329.0"
      ]
     },
     "execution_count": 5,
     "metadata": {},
     "output_type": "execute_result"
    }
   ],
   "source": [
    "df.sample(3)"
   ]
  },
  {
   "cell_type": "code",
   "execution_count": 6,
   "metadata": {},
   "outputs": [
    {
     "data": {
      "text/plain": [
       "location       1\n",
       "size          16\n",
       "total_sqft     0\n",
       "bath          73\n",
       "price          0\n",
       "dtype: int64"
      ]
     },
     "execution_count": 6,
     "metadata": {},
     "output_type": "execute_result"
    }
   ],
   "source": [
    "df.isna().sum()"
   ]
  },
  {
   "cell_type": "code",
   "execution_count": 7,
   "metadata": {},
   "outputs": [],
   "source": [
    "df.dropna(inplace=True)"
   ]
  },
  {
   "cell_type": "code",
   "execution_count": 8,
   "metadata": {},
   "outputs": [],
   "source": [
    "df[\"bhk\"] = df[\"size\"].apply(lambda x : int(x.split(\" \")[0]))"
   ]
  },
  {
   "cell_type": "code",
   "execution_count": 25,
   "metadata": {},
   "outputs": [
    {
     "data": {
      "text/html": [
       "<div>\n",
       "<style scoped>\n",
       "    .dataframe tbody tr th:only-of-type {\n",
       "        vertical-align: middle;\n",
       "    }\n",
       "\n",
       "    .dataframe tbody tr th {\n",
       "        vertical-align: top;\n",
       "    }\n",
       "\n",
       "    .dataframe thead th {\n",
       "        text-align: right;\n",
       "    }\n",
       "</style>\n",
       "<table border=\"1\" class=\"dataframe\">\n",
       "  <thead>\n",
       "    <tr style=\"text-align: right;\">\n",
       "      <th></th>\n",
       "      <th>location</th>\n",
       "      <th>size</th>\n",
       "      <th>total_sqft</th>\n",
       "      <th>bath</th>\n",
       "      <th>price</th>\n",
       "      <th>bhk</th>\n",
       "    </tr>\n",
       "  </thead>\n",
       "  <tbody>\n",
       "    <tr>\n",
       "      <th>6443</th>\n",
       "      <td>Whitefield</td>\n",
       "      <td>3 Bedroom</td>\n",
       "      <td>1200.0</td>\n",
       "      <td>3.0</td>\n",
       "      <td>68.4</td>\n",
       "      <td>3</td>\n",
       "    </tr>\n",
       "    <tr>\n",
       "      <th>7945</th>\n",
       "      <td>Ulsoor</td>\n",
       "      <td>5 Bedroom</td>\n",
       "      <td>1200.0</td>\n",
       "      <td>4.0</td>\n",
       "      <td>150.0</td>\n",
       "      <td>5</td>\n",
       "    </tr>\n",
       "    <tr>\n",
       "      <th>10676</th>\n",
       "      <td>Whitefield</td>\n",
       "      <td>2 BHK</td>\n",
       "      <td>1130.0</td>\n",
       "      <td>2.0</td>\n",
       "      <td>36.0</td>\n",
       "      <td>2</td>\n",
       "    </tr>\n",
       "    <tr>\n",
       "      <th>1301</th>\n",
       "      <td>Kalkere</td>\n",
       "      <td>2 BHK</td>\n",
       "      <td>925.0</td>\n",
       "      <td>2.0</td>\n",
       "      <td>48.0</td>\n",
       "      <td>2</td>\n",
       "    </tr>\n",
       "    <tr>\n",
       "      <th>799</th>\n",
       "      <td>Tumkur Road</td>\n",
       "      <td>3 BHK</td>\n",
       "      <td>1779.0</td>\n",
       "      <td>3.0</td>\n",
       "      <td>112.0</td>\n",
       "      <td>3</td>\n",
       "    </tr>\n",
       "  </tbody>\n",
       "</table>\n",
       "</div>"
      ],
      "text/plain": [
       "          location       size  total_sqft  bath  price  bhk\n",
       "6443    Whitefield  3 Bedroom      1200.0   3.0   68.4    3\n",
       "7945        Ulsoor  5 Bedroom      1200.0   4.0  150.0    5\n",
       "10676   Whitefield      2 BHK      1130.0   2.0   36.0    2\n",
       "1301       Kalkere      2 BHK       925.0   2.0   48.0    2\n",
       "799    Tumkur Road      3 BHK      1779.0   3.0  112.0    3"
      ]
     },
     "execution_count": 25,
     "metadata": {},
     "output_type": "execute_result"
    }
   ],
   "source": [
    "df.sample(5)"
   ]
  },
  {
   "cell_type": "code",
   "execution_count": 10,
   "metadata": {},
   "outputs": [],
   "source": [
    "def fix_total_sqft(x):\n",
    "    a = x.split(\"-\")\n",
    "    if len(a) == 2:\n",
    "        return (float(a[1]) + float(a[0]))/2\n",
    "    try:\n",
    "        return float(x)\n",
    "    except:\n",
    "        return None"
   ]
  },
  {
   "cell_type": "code",
   "execution_count": 11,
   "metadata": {},
   "outputs": [],
   "source": [
    "df[\"total_sqft\"] = df[\"total_sqft\"].apply(fix_total_sqft)"
   ]
  },
  {
   "cell_type": "code",
   "execution_count": 12,
   "metadata": {},
   "outputs": [
    {
     "data": {
      "text/plain": [
       "location       0\n",
       "size           0\n",
       "total_sqft    46\n",
       "bath           0\n",
       "price          0\n",
       "bhk            0\n",
       "dtype: int64"
      ]
     },
     "execution_count": 12,
     "metadata": {},
     "output_type": "execute_result"
    }
   ],
   "source": [
    "df.isna().sum()"
   ]
  },
  {
   "cell_type": "code",
   "execution_count": 13,
   "metadata": {},
   "outputs": [],
   "source": [
    "df.dropna(inplace=True)"
   ]
  },
  {
   "cell_type": "code",
   "execution_count": 26,
   "metadata": {},
   "outputs": [],
   "source": [
    "df2 = df.copy()"
   ]
  },
  {
   "cell_type": "code",
   "execution_count": 27,
   "metadata": {},
   "outputs": [],
   "source": [
    "df2[\"price_per_sqft\"] = (df2[\"price\"]*100000)/df2[\"total_sqft\"]"
   ]
  },
  {
   "cell_type": "code",
   "execution_count": 28,
   "metadata": {},
   "outputs": [
    {
     "data": {
      "text/html": [
       "<div>\n",
       "<style scoped>\n",
       "    .dataframe tbody tr th:only-of-type {\n",
       "        vertical-align: middle;\n",
       "    }\n",
       "\n",
       "    .dataframe tbody tr th {\n",
       "        vertical-align: top;\n",
       "    }\n",
       "\n",
       "    .dataframe thead th {\n",
       "        text-align: right;\n",
       "    }\n",
       "</style>\n",
       "<table border=\"1\" class=\"dataframe\">\n",
       "  <thead>\n",
       "    <tr style=\"text-align: right;\">\n",
       "      <th></th>\n",
       "      <th>location</th>\n",
       "      <th>size</th>\n",
       "      <th>total_sqft</th>\n",
       "      <th>bath</th>\n",
       "      <th>price</th>\n",
       "      <th>bhk</th>\n",
       "      <th>price_per_sqft</th>\n",
       "    </tr>\n",
       "  </thead>\n",
       "  <tbody>\n",
       "    <tr>\n",
       "      <th>1403</th>\n",
       "      <td>Judicial Layout</td>\n",
       "      <td>3 BHK</td>\n",
       "      <td>1300.0</td>\n",
       "      <td>3.0</td>\n",
       "      <td>64.0</td>\n",
       "      <td>3</td>\n",
       "      <td>4923.076923</td>\n",
       "    </tr>\n",
       "    <tr>\n",
       "      <th>911</th>\n",
       "      <td>Thubarahalli</td>\n",
       "      <td>4 Bedroom</td>\n",
       "      <td>3800.0</td>\n",
       "      <td>4.0</td>\n",
       "      <td>239.0</td>\n",
       "      <td>4</td>\n",
       "      <td>6289.473684</td>\n",
       "    </tr>\n",
       "    <tr>\n",
       "      <th>2898</th>\n",
       "      <td>Varthur</td>\n",
       "      <td>2 BHK</td>\n",
       "      <td>977.0</td>\n",
       "      <td>2.0</td>\n",
       "      <td>36.0</td>\n",
       "      <td>2</td>\n",
       "      <td>3684.749232</td>\n",
       "    </tr>\n",
       "  </tbody>\n",
       "</table>\n",
       "</div>"
      ],
      "text/plain": [
       "             location       size  total_sqft  bath  price  bhk  price_per_sqft\n",
       "1403  Judicial Layout      3 BHK      1300.0   3.0   64.0    3     4923.076923\n",
       "911      Thubarahalli  4 Bedroom      3800.0   4.0  239.0    4     6289.473684\n",
       "2898          Varthur      2 BHK       977.0   2.0   36.0    2     3684.749232"
      ]
     },
     "execution_count": 28,
     "metadata": {},
     "output_type": "execute_result"
    }
   ],
   "source": [
    "df2.sample(3)"
   ]
  },
  {
   "cell_type": "code",
   "execution_count": 29,
   "metadata": {},
   "outputs": [
    {
     "data": {
      "text/plain": [
       "1304"
      ]
     },
     "execution_count": 29,
     "metadata": {},
     "output_type": "execute_result"
    }
   ],
   "source": [
    "df2.location.nunique()"
   ]
  },
  {
   "cell_type": "code",
   "execution_count": 30,
   "metadata": {},
   "outputs": [],
   "source": [
    "df2.location = df2.location.apply(lambda x : x.strip())"
   ]
  },
  {
   "cell_type": "code",
   "execution_count": 31,
   "metadata": {},
   "outputs": [],
   "source": [
    "location_count = df2.groupby(\"location\")[\"location\"].agg(\"count\")"
   ]
  },
  {
   "cell_type": "code",
   "execution_count": 32,
   "metadata": {},
   "outputs": [
    {
     "data": {
      "text/plain": [
       "location\n",
       "1 Annasandrapalya                                  1\n",
       "1 Giri Nagar                                       1\n",
       "1 Immadihalli                                      1\n",
       "1 Ramamurthy Nagar                                 1\n",
       "12th cross srinivas nagar banshankari 3rd stage    1\n",
       "                                                  ..\n",
       "t.c palya                                          1\n",
       "tc.palya                                           4\n",
       "vinayakanagar                                      1\n",
       "white field,kadugodi                               1\n",
       "whitefiled                                         1\n",
       "Name: location, Length: 1293, dtype: int64"
      ]
     },
     "execution_count": 32,
     "metadata": {},
     "output_type": "execute_result"
    }
   ],
   "source": [
    "location_count"
   ]
  },
  {
   "cell_type": "code",
   "execution_count": 33,
   "metadata": {},
   "outputs": [
    {
     "data": {
      "text/plain": [
       "pandas.core.series.Series"
      ]
     },
     "execution_count": 33,
     "metadata": {},
     "output_type": "execute_result"
    }
   ],
   "source": [
    "type(location_count)"
   ]
  },
  {
   "cell_type": "code",
   "execution_count": 34,
   "metadata": {},
   "outputs": [],
   "source": [
    "less_than_10 = location_count[location_count <= 10]"
   ]
  },
  {
   "cell_type": "code",
   "execution_count": 35,
   "metadata": {},
   "outputs": [
    {
     "data": {
      "text/plain": [
       "1052"
      ]
     },
     "execution_count": 35,
     "metadata": {},
     "output_type": "execute_result"
    }
   ],
   "source": [
    "less_than_10.count()"
   ]
  },
  {
   "cell_type": "code",
   "execution_count": 36,
   "metadata": {},
   "outputs": [],
   "source": [
    "df2[\"location\"] = df2[\"location\"].apply(lambda x : \"other_location\" if x in less_than_10 else x)"
   ]
  },
  {
   "cell_type": "code",
   "execution_count": 37,
   "metadata": {},
   "outputs": [
    {
     "data": {
      "text/plain": [
       "242"
      ]
     },
     "execution_count": 37,
     "metadata": {},
     "output_type": "execute_result"
    }
   ],
   "source": [
    "df2.location.nunique()"
   ]
  },
  {
   "cell_type": "code",
   "execution_count": 38,
   "metadata": {},
   "outputs": [
    {
     "data": {
      "text/html": [
       "<div>\n",
       "<style scoped>\n",
       "    .dataframe tbody tr th:only-of-type {\n",
       "        vertical-align: middle;\n",
       "    }\n",
       "\n",
       "    .dataframe tbody tr th {\n",
       "        vertical-align: top;\n",
       "    }\n",
       "\n",
       "    .dataframe thead th {\n",
       "        text-align: right;\n",
       "    }\n",
       "</style>\n",
       "<table border=\"1\" class=\"dataframe\">\n",
       "  <thead>\n",
       "    <tr style=\"text-align: right;\">\n",
       "      <th></th>\n",
       "      <th>location</th>\n",
       "      <th>size</th>\n",
       "      <th>total_sqft</th>\n",
       "      <th>bath</th>\n",
       "      <th>price</th>\n",
       "      <th>bhk</th>\n",
       "      <th>price_per_sqft</th>\n",
       "    </tr>\n",
       "  </thead>\n",
       "  <tbody>\n",
       "    <tr>\n",
       "      <th>9163</th>\n",
       "      <td>other_location</td>\n",
       "      <td>2 BHK</td>\n",
       "      <td>1275.0</td>\n",
       "      <td>2.0</td>\n",
       "      <td>105.0</td>\n",
       "      <td>2</td>\n",
       "      <td>8235.294118</td>\n",
       "    </tr>\n",
       "    <tr>\n",
       "      <th>5992</th>\n",
       "      <td>Tumkur Road</td>\n",
       "      <td>3 BHK</td>\n",
       "      <td>1459.0</td>\n",
       "      <td>2.0</td>\n",
       "      <td>110.0</td>\n",
       "      <td>3</td>\n",
       "      <td>7539.410555</td>\n",
       "    </tr>\n",
       "    <tr>\n",
       "      <th>12588</th>\n",
       "      <td>Nagarbhavi</td>\n",
       "      <td>3 Bedroom</td>\n",
       "      <td>1200.0</td>\n",
       "      <td>3.0</td>\n",
       "      <td>228.0</td>\n",
       "      <td>3</td>\n",
       "      <td>19000.000000</td>\n",
       "    </tr>\n",
       "    <tr>\n",
       "      <th>3658</th>\n",
       "      <td>Hosakerehalli</td>\n",
       "      <td>2 BHK</td>\n",
       "      <td>1304.0</td>\n",
       "      <td>2.0</td>\n",
       "      <td>100.0</td>\n",
       "      <td>2</td>\n",
       "      <td>7668.711656</td>\n",
       "    </tr>\n",
       "  </tbody>\n",
       "</table>\n",
       "</div>"
      ],
      "text/plain": [
       "             location       size  total_sqft  bath  price  bhk  price_per_sqft\n",
       "9163   other_location      2 BHK      1275.0   2.0  105.0    2     8235.294118\n",
       "5992      Tumkur Road      3 BHK      1459.0   2.0  110.0    3     7539.410555\n",
       "12588      Nagarbhavi  3 Bedroom      1200.0   3.0  228.0    3    19000.000000\n",
       "3658    Hosakerehalli      2 BHK      1304.0   2.0  100.0    2     7668.711656"
      ]
     },
     "execution_count": 38,
     "metadata": {},
     "output_type": "execute_result"
    }
   ],
   "source": [
    "df2.sample(4)"
   ]
  },
  {
   "cell_type": "code",
   "execution_count": 39,
   "metadata": {},
   "outputs": [
    {
     "data": {
      "text/plain": [
       "(13246, 7)"
      ]
     },
     "execution_count": 39,
     "metadata": {},
     "output_type": "execute_result"
    }
   ],
   "source": [
    "df2.shape"
   ]
  },
  {
   "cell_type": "code",
   "execution_count": 42,
   "metadata": {},
   "outputs": [],
   "source": [
    "df2 = df2[~(df2[\"total_sqft\"]/df2[\"bhk\"] < 300)]"
   ]
  },
  {
   "cell_type": "code",
   "execution_count": 43,
   "metadata": {},
   "outputs": [
    {
     "data": {
      "text/plain": [
       "(12502, 7)"
      ]
     },
     "execution_count": 43,
     "metadata": {},
     "output_type": "execute_result"
    }
   ],
   "source": [
    "df2.shape"
   ]
  },
  {
   "cell_type": "code",
   "execution_count": 50,
   "metadata": {},
   "outputs": [
    {
     "data": {
      "text/plain": [
       "(array([1.0945e+04, 1.2610e+03, 1.8300e+02, 5.2000e+01, 5.0000e+00,\n",
       "        4.0000e+00, 3.0000e+00, 0.0000e+00, 2.0000e+00, 0.0000e+00,\n",
       "        0.0000e+00, 0.0000e+00, 0.0000e+00, 0.0000e+00, 0.0000e+00,\n",
       "        0.0000e+00, 0.0000e+00, 0.0000e+00, 0.0000e+00, 1.0000e+00]),\n",
       " array([   267.82981328,   9077.96773438,  17888.10565549,  26698.24357659,\n",
       "         35508.38149769,  44318.51941879,  53128.65733989,  61938.79526099,\n",
       "         70748.93318209,  79559.07110319,  88369.20902429,  97179.34694539,\n",
       "        105989.48486649, 114799.62278759, 123609.76070869, 132419.89862979,\n",
       "        141230.03655089, 150040.17447199, 158850.31239309, 167660.45031419,\n",
       "        176470.58823529]),\n",
       " <BarContainer object of 20 artists>)"
      ]
     },
     "execution_count": 50,
     "metadata": {},
     "output_type": "execute_result"
    },
    {
     "data": {
      "image/png": "[encoded data removed]",
      "text/plain": [
       "<Figure size 640x480 with 1 Axes>"
      ]
     },
     "metadata": {},
     "output_type": "display_data"
    }
   ],
   "source": [
    "plt.hist(df2[\"price_per_sqft\"] , bins=20 , rwidth=20)"
   ]
  },
  {
   "cell_type": "code",
   "execution_count": 51,
   "metadata": {},
   "outputs": [],
   "source": [
    "def remove_per_sqft(df):\n",
    "    df_out = pd.DataFrame()\n",
    "    for loca , sub_df in df.groupby(\"location\"):\n",
    "        m = sub_df[\"price_per_sqft\"].mean()\n",
    "        st = sub_df[\"price_per_sqft\"].std()\n",
    "        temp = sub_df[(sub_df[\"price_per_sqft\"] >(m-st)) & (sub_df[\"price_per_sqft\"] <= (m+st))  ]\n",
    "        df_out = pd.concat([df_out , temp] , ignore_index=True)\n",
    "    return df_out    "
   ]
  },
  {
   "cell_type": "code",
   "execution_count": 52,
   "metadata": {},
   "outputs": [],
   "source": [
    "df3 = remove_per_sqft(df2)"
   ]
  },
  {
   "cell_type": "code",
   "execution_count": 53,
   "metadata": {},
   "outputs": [
    {
     "data": {
      "text/plain": [
       "(10291, 7)"
      ]
     },
     "execution_count": 53,
     "metadata": {},
     "output_type": "execute_result"
    }
   ],
   "source": [
    "df3.shape"
   ]
  },
  {
   "cell_type": "code",
   "execution_count": 54,
   "metadata": {},
   "outputs": [
    {
     "data": {
      "text/plain": [
       "16"
      ]
     },
     "execution_count": 54,
     "metadata": {},
     "output_type": "execute_result"
    }
   ],
   "source": [
    "df3.bhk.max()"
   ]
  },
  {
   "cell_type": "code",
   "execution_count": 55,
   "metadata": {},
   "outputs": [
    {
     "data": {
      "text/plain": [
       "1"
      ]
     },
     "execution_count": 55,
     "metadata": {},
     "output_type": "execute_result"
    }
   ],
   "source": [
    "df3.bhk.min()"
   ]
  },
  {
   "cell_type": "code",
   "execution_count": 56,
   "metadata": {},
   "outputs": [],
   "source": [
    "def plot_scatterplot(df , location):\n",
    "    df1 = df[(df[\"location\"] == location)&(df[\"bhk\"] == 2)]\n",
    "    df2 = df[(df[\"location\"] == location)&(df[\"bhk\"] == 3)]\n",
    "    plt.scatter(df1.total_sqft , df1.price , c=\"red\" , marker=\".\")\n",
    "    plt.scatter(df2.total_sqft , df2.price , c=\"green\" , marker=\"*\")\n",
    "    plt.xlabel(\"total Sqr. feet\")\n",
    "    plt.ylabel(\"price\")"
   ]
  },
  {
   "cell_type": "code",
   "execution_count": 57,
   "metadata": {},
   "outputs": [
    {
     "data": {
      "image/png": "[encoded data removed]",
      "text/plain": [
       "<Figure size 640x480 with 1 Axes>"
      ]
     },
     "metadata": {},
     "output_type": "display_data"
    }
   ],
   "source": [
    "plot_scatterplot(df3 ,\"Dommasandra\" )"
   ]
  },
  {
   "cell_type": "code",
   "execution_count": 58,
   "metadata": {},
   "outputs": [],
   "source": [
    "def remove_per_bhk(df):\n",
    "    exclude_index = np.array([])\n",
    "    for loc , df_loc in df.groupby(\"location\"):\n",
    "        bhk_dic = {}\n",
    "        for bhk , df_bhk in df_loc.groupby(\"bhk\"):\n",
    "            bhk_dic[bhk] = {\n",
    "                \"mean\":np.mean(df_bhk.price_per_sqft),\n",
    "                \"count\" :df_bhk.shape[0]\n",
    "            }\n",
    "        for bhk, df_bhk in df_loc.groupby(\"bhk\"):\n",
    "            curr = bhk_dic.get(bhk-1)\n",
    "            if curr:\n",
    "                exclude_index = np.append(exclude_index , df_bhk[df[\"price_per_sqft\"] <(curr[\"mean\"]) ].index.values)\n",
    "                \n",
    "    return df.drop(exclude_index)        \n",
    "        "
   ]
  },
  {
   "cell_type": "code",
   "execution_count": 59,
   "metadata": {},
   "outputs": [
    {
     "name": "stderr",
     "output_type": "stream",
     "text": [
      "C:\\Users\\kulde\\AppData\\Local\\Temp\\ipykernel_1696\\444315550.py:13: UserWarning: Boolean Series key will be reindexed to match DataFrame index.\n",
      "  exclude_index = np.append(exclude_index , df_bhk[df[\"price_per_sqft\"] <(curr[\"mean\"]) ].index.values)\n",
      "C:\\Users\\kulde\\AppData\\Local\\Temp\\ipykernel_1696\\444315550.py:13: UserWarning: Boolean Series key will be reindexed to match DataFrame index.\n",
      "  exclude_index = np.append(exclude_index , df_bhk[df[\"price_per_sqft\"] <(curr[\"mean\"]) ].index.values)\n",
      "C:\\Users\\kulde\\AppData\\Local\\Temp\\ipykernel_1696\\444315550.py:13: UserWarning: Boolean Series key will be reindexed to match DataFrame index.\n",
      "  exclude_index = np.append(exclude_index , df_bhk[df[\"price_per_sqft\"] <(curr[\"mean\"]) ].index.values)\n",
      "C:\\Users\\kulde\\AppData\\Local\\Temp\\ipykernel_1696\\444315550.py:13: UserWarning: Boolean Series key will be reindexed to match DataFrame index.\n",
      "  exclude_index = np.append(exclude_index , df_bhk[df[\"price_per_sqft\"] <(curr[\"mean\"]) ].index.values)\n",
      "C:\\Users\\kulde\\AppData\\Local\\Temp\\ipykernel_1696\\444315550.py:13: UserWarning: Boolean Series key will be reindexed to match DataFrame index.\n",
      "  exclude_index = np.append(exclude_index , df_bhk[df[\"price_per_sqft\"] <(curr[\"mean\"]) ].index.values)\n",
      "C:\\Users\\kulde\\AppData\\Local\\Temp\\ipykernel_1696\\444315550.py:13: UserWarning: Boolean Series key will be reindexed to match DataFrame index.\n",
      "  exclude_index = np.append(exclude_index , df_bhk[df[\"price_per_sqft\"] <(curr[\"mean\"]) ].index.values)\n",
      "C:\\Users\\kulde\\AppData\\Local\\Temp\\ipykernel_1696\\444315550.py:13: UserWarning: Boolean Series key will be reindexed to match DataFrame index.\n",
      "  exclude_index = np.append(exclude_index , df_bhk[df[\"price_per_sqft\"] <(curr[\"mean\"]) ].index.values)\n",
      "C:\\Users\\kulde\\AppData\\Local\\Temp\\ipykernel_1696\\444315550.py:13: UserWarning: Boolean Series key will be reindexed to match DataFrame index.\n",
      "  exclude_index = np.append(exclude_index , df_bhk[df[\"price_per_sqft\"] <(curr[\"mean\"]) ].index.values)\n",
      "C:\\Users\\kulde\\AppData\\Local\\Temp\\ipykernel_1696\\444315550.py:13: UserWarning: Boolean Series key will be reindexed to match DataFrame index.\n",
      "  exclude_index = np.append(exclude_index , df_bhk[df[\"price_per_sqft\"] <(curr[\"mean\"]) ].index.values)\n",
      "C:\\Users\\kulde\\AppData\\Local\\Temp\\ipykernel_1696\\444315550.py:13: UserWarning: Boolean Series key will be reindexed to match DataFrame index.\n",
      "  exclude_index = np.append(exclude_index , df_bhk[df[\"price_per_sqft\"] <(curr[\"mean\"]) ].index.values)\n",
      "C:\\Users\\kulde\\AppData\\Local\\Temp\\ipykernel_1696\\444315550.py:13: UserWarning: Boolean Series key will be reindexed to match DataFrame index.\n",
      "  exclude_index = np.append(exclude_index , df_bhk[df[\"price_per_sqft\"] <(curr[\"mean\"]) ].index.values)\n",
      "C:\\Users\\kulde\\AppData\\Local\\Temp\\ipykernel_1696\\444315550.py:13: UserWarning: Boolean Series key will be reindexed to match DataFrame index.\n",
      "  exclude_index = np.append(exclude_index , df_bhk[df[\"price_per_sqft\"] <(curr[\"mean\"]) ].index.values)\n",
      "C:\\Users\\kulde\\AppData\\Local\\Temp\\ipykernel_1696\\444315550.py:13: UserWarning: Boolean Series key will be reindexed to match DataFrame index.\n",
      "  exclude_index = np.append(exclude_index , df_bhk[df[\"price_per_sqft\"] <(curr[\"mean\"]) ].index.values)\n",
      "C:\\Users\\kulde\\AppData\\Local\\Temp\\ipykernel_1696\\444315550.py:13: UserWarning: Boolean Series key will be reindexed to match DataFrame index.\n",
      "  exclude_index = np.append(exclude_index , df_bhk[df[\"price_per_sqft\"] <(curr[\"mean\"]) ].index.values)\n",
      "C:\\Users\\kulde\\AppData\\Local\\Temp\\ipykernel_1696\\444315550.py:13: UserWarning: Boolean Series key will be reindexed to match DataFrame index.\n",
      "  exclude_index = np.append(exclude_index , df_bhk[df[\"price_per_sqft\"] <(curr[\"mean\"]) ].index.values)\n",
      "C:\\Users\\kulde\\AppData\\Local\\Temp\\ipykernel_1696\\444315550.py:13: UserWarning: Boolean Series key will be reindexed to match DataFrame index.\n",
      "  exclude_index = np.append(exclude_index , df_bhk[df[\"price_per_sqft\"] <(curr[\"mean\"]) ].index.values)\n",
      "C:\\Users\\kulde\\AppData\\Local\\Temp\\ipykernel_1696\\444315550.py:13: UserWarning: Boolean Series key will be reindexed to match DataFrame index.\n",
      "  exclude_index = np.append(exclude_index , df_bhk[df[\"price_per_sqft\"] <(curr[\"mean\"]) ].index.values)\n",
      "C:\\Users\\kulde\\AppData\\Local\\Temp\\ipykernel_1696\\444315550.py:13: UserWarning: Boolean Series key will be reindexed to match DataFrame index.\n",
      "  exclude_index = np.append(exclude_index , df_bhk[df[\"price_per_sqft\"] <(curr[\"mean\"]) ].index.values)\n",
      "C:\\Users\\kulde\\AppData\\Local\\Temp\\ipykernel_1696\\444315550.py:13: UserWarning: Boolean Series key will be reindexed to match DataFrame index.\n",
      "  exclude_index = np.append(exclude_index , df_bhk[df[\"price_per_sqft\"] <(curr[\"mean\"]) ].index.values)\n",
      "C:\\Users\\kulde\\AppData\\Local\\Temp\\ipykernel_1696\\444315550.py:13: UserWarning: Boolean Series key will be reindexed to match DataFrame index.\n",
      "  exclude_index = np.append(exclude_index , df_bhk[df[\"price_per_sqft\"] <(curr[\"mean\"]) ].index.values)\n",
      "C:\\Users\\kulde\\AppData\\Local\\Temp\\ipykernel_1696\\444315550.py:13: UserWarning: Boolean Series key will be reindexed to match DataFrame index.\n",
      "  exclude_index = np.append(exclude_index , df_bhk[df[\"price_per_sqft\"] <(curr[\"mean\"]) ].index.values)\n",
      "C:\\Users\\kulde\\AppData\\Local\\Temp\\ipykernel_1696\\444315550.py:13: UserWarning: Boolean Series key will be reindexed to match DataFrame index.\n",
      "  exclude_index = np.append(exclude_index , df_bhk[df[\"price_per_sqft\"] <(curr[\"mean\"]) ].index.values)\n",
      "C:\\Users\\kulde\\AppData\\Local\\Temp\\ipykernel_1696\\444315550.py:13: UserWarning: Boolean Series key will be reindexed to match DataFrame index.\n",
      "  exclude_index = np.append(exclude_index , df_bhk[df[\"price_per_sqft\"] <(curr[\"mean\"]) ].index.values)\n",
      "C:\\Users\\kulde\\AppData\\Local\\Temp\\ipykernel_1696\\444315550.py:13: UserWarning: Boolean Series key will be reindexed to match DataFrame index.\n",
      "  exclude_index = np.append(exclude_index , df_bhk[df[\"price_per_sqft\"] <(curr[\"mean\"]) ].index.values)\n",
      "C:\\Users\\kulde\\AppData\\Local\\Temp\\ipykernel_1696\\444315550.py:13: UserWarning: Boolean Series key will be reindexed to match DataFrame index.\n",
      "  exclude_index = np.append(exclude_index , df_bhk[df[\"price_per_sqft\"] <(curr[\"mean\"]) ].index.values)\n",
      "C:\\Users\\kulde\\AppData\\Local\\Temp\\ipykernel_1696\\444315550.py:13: UserWarning: Boolean Series key will be reindexed to match DataFrame index.\n",
      "  exclude_index = np.append(exclude_index , df_bhk[df[\"price_per_sqft\"] <(curr[\"mean\"]) ].index.values)\n",
      "C:\\Users\\kulde\\AppData\\Local\\Temp\\ipykernel_1696\\444315550.py:13: UserWarning: Boolean Series key will be reindexed to match DataFrame index.\n",
      "  exclude_index = np.append(exclude_index , df_bhk[df[\"price_per_sqft\"] <(curr[\"mean\"]) ].index.values)\n",
      "C:\\Users\\kulde\\AppData\\Local\\Temp\\ipykernel_1696\\444315550.py:13: UserWarning: Boolean Series key will be reindexed to match DataFrame index.\n",
      "  exclude_index = np.append(exclude_index , df_bhk[df[\"price_per_sqft\"] <(curr[\"mean\"]) ].index.values)\n",
      "C:\\Users\\kulde\\AppData\\Local\\Temp\\ipykernel_1696\\444315550.py:13: UserWarning: Boolean Series key will be reindexed to match DataFrame index.\n",
      "  exclude_index = np.append(exclude_index , df_bhk[df[\"price_per_sqft\"] <(curr[\"mean\"]) ].index.values)\n",
      "C:\\Users\\kulde\\AppData\\Local\\Temp\\ipykernel_1696\\444315550.py:13: UserWarning: Boolean Series key will be reindexed to match DataFrame index.\n",
      "  exclude_index = np.append(exclude_index , df_bhk[df[\"price_per_sqft\"] <(curr[\"mean\"]) ].index.values)\n",
      "C:\\Users\\kulde\\AppData\\Local\\Temp\\ipykernel_1696\\444315550.py:13: UserWarning: Boolean Series key will be reindexed to match DataFrame index.\n",
      "  exclude_index = np.append(exclude_index , df_bhk[df[\"price_per_sqft\"] <(curr[\"mean\"]) ].index.values)\n",
      "C:\\Users\\kulde\\AppData\\Local\\Temp\\ipykernel_1696\\444315550.py:13: UserWarning: Boolean Series key will be reindexed to match DataFrame index.\n",
      "  exclude_index = np.append(exclude_index , df_bhk[df[\"price_per_sqft\"] <(curr[\"mean\"]) ].index.values)\n",
      "C:\\Users\\kulde\\AppData\\Local\\Temp\\ipykernel_1696\\444315550.py:13: UserWarning: Boolean Series key will be reindexed to match DataFrame index.\n",
      "  exclude_index = np.append(exclude_index , df_bhk[df[\"price_per_sqft\"] <(curr[\"mean\"]) ].index.values)\n",
      "C:\\Users\\kulde\\AppData\\Local\\Temp\\ipykernel_1696\\444315550.py:13: UserWarning: Boolean Series key will be reindexed to match DataFrame index.\n",
      "  exclude_index = np.append(exclude_index , df_bhk[df[\"price_per_sqft\"] <(curr[\"mean\"]) ].index.values)\n",
      "C:\\Users\\kulde\\AppData\\Local\\Temp\\ipykernel_1696\\444315550.py:13: UserWarning: Boolean Series key will be reindexed to match DataFrame index.\n",
      "  exclude_index = np.append(exclude_index , df_bhk[df[\"price_per_sqft\"] <(curr[\"mean\"]) ].index.values)\n",
      "C:\\Users\\kulde\\AppData\\Local\\Temp\\ipykernel_1696\\444315550.py:13: UserWarning: Boolean Series key will be reindexed to match DataFrame index.\n",
      "  exclude_index = np.append(exclude_index , df_bhk[df[\"price_per_sqft\"] <(curr[\"mean\"]) ].index.values)\n",
      "C:\\Users\\kulde\\AppData\\Local\\Temp\\ipykernel_1696\\444315550.py:13: UserWarning: Boolean Series key will be reindexed to match DataFrame index.\n",
      "  exclude_index = np.append(exclude_index , df_bhk[df[\"price_per_sqft\"] <(curr[\"mean\"]) ].index.values)\n",
      "C:\\Users\\kulde\\AppData\\Local\\Temp\\ipykernel_1696\\444315550.py:13: UserWarning: Boolean Series key will be reindexed to match DataFrame index.\n",
      "  exclude_index = np.append(exclude_index , df_bhk[df[\"price_per_sqft\"] <(curr[\"mean\"]) ].index.values)\n",
      "C:\\Users\\kulde\\AppData\\Local\\Temp\\ipykernel_1696\\444315550.py:13: UserWarning: Boolean Series key will be reindexed to match DataFrame index.\n",
      "  exclude_index = np.append(exclude_index , df_bhk[df[\"price_per_sqft\"] <(curr[\"mean\"]) ].index.values)\n",
      "C:\\Users\\kulde\\AppData\\Local\\Temp\\ipykernel_1696\\444315550.py:13: UserWarning: Boolean Series key will be reindexed to match DataFrame index.\n",
      "  exclude_index = np.append(exclude_index , df_bhk[df[\"price_per_sqft\"] <(curr[\"mean\"]) ].index.values)\n",
      "C:\\Users\\kulde\\AppData\\Local\\Temp\\ipykernel_1696\\444315550.py:13: UserWarning: Boolean Series key will be reindexed to match DataFrame index.\n",
      "  exclude_index = np.append(exclude_index , df_bhk[df[\"price_per_sqft\"] <(curr[\"mean\"]) ].index.values)\n",
      "C:\\Users\\kulde\\AppData\\Local\\Temp\\ipykernel_1696\\444315550.py:13: UserWarning: Boolean Series key will be reindexed to match DataFrame index.\n",
      "  exclude_index = np.append(exclude_index , df_bhk[df[\"price_per_sqft\"] <(curr[\"mean\"]) ].index.values)\n",
      "C:\\Users\\kulde\\AppData\\Local\\Temp\\ipykernel_1696\\444315550.py:13: UserWarning: Boolean Series key will be reindexed to match DataFrame index.\n",
      "  exclude_index = np.append(exclude_index , df_bhk[df[\"price_per_sqft\"] <(curr[\"mean\"]) ].index.values)\n",
      "C:\\Users\\kulde\\AppData\\Local\\Temp\\ipykernel_1696\\444315550.py:13: UserWarning: Boolean Series key will be reindexed to match DataFrame index.\n",
      "  exclude_index = np.append(exclude_index , df_bhk[df[\"price_per_sqft\"] <(curr[\"mean\"]) ].index.values)\n",
      "C:\\Users\\kulde\\AppData\\Local\\Temp\\ipykernel_1696\\444315550.py:13: UserWarning: Boolean Series key will be reindexed to match DataFrame index.\n",
      "  exclude_index = np.append(exclude_index , df_bhk[df[\"price_per_sqft\"] <(curr[\"mean\"]) ].index.values)\n",
      "C:\\Users\\kulde\\AppData\\Local\\Temp\\ipykernel_1696\\444315550.py:13: UserWarning: Boolean Series key will be reindexed to match DataFrame index.\n",
      "  exclude_index = np.append(exclude_index , df_bhk[df[\"price_per_sqft\"] <(curr[\"mean\"]) ].index.values)\n",
      "C:\\Users\\kulde\\AppData\\Local\\Temp\\ipykernel_1696\\444315550.py:13: UserWarning: Boolean Series key will be reindexed to match DataFrame index.\n",
      "  exclude_index = np.append(exclude_index , df_bhk[df[\"price_per_sqft\"] <(curr[\"mean\"]) ].index.values)\n",
      "C:\\Users\\kulde\\AppData\\Local\\Temp\\ipykernel_1696\\444315550.py:13: UserWarning: Boolean Series key will be reindexed to match DataFrame index.\n",
      "  exclude_index = np.append(exclude_index , df_bhk[df[\"price_per_sqft\"] <(curr[\"mean\"]) ].index.values)\n",
      "C:\\Users\\kulde\\AppData\\Local\\Temp\\ipykernel_1696\\444315550.py:13: UserWarning: Boolean Series key will be reindexed to match DataFrame index.\n",
      "  exclude_index = np.append(exclude_index , df_bhk[df[\"price_per_sqft\"] <(curr[\"mean\"]) ].index.values)\n",
      "C:\\Users\\kulde\\AppData\\Local\\Temp\\ipykernel_1696\\444315550.py:13: UserWarning: Boolean Series key will be reindexed to match DataFrame index.\n",
      "  exclude_index = np.append(exclude_index , df_bhk[df[\"price_per_sqft\"] <(curr[\"mean\"]) ].index.values)\n",
      "C:\\Users\\kulde\\AppData\\Local\\Temp\\ipykernel_1696\\444315550.py:13: UserWarning: Boolean Series key will be reindexed to match DataFrame index.\n",
      "  exclude_index = np.append(exclude_index , df_bhk[df[\"price_per_sqft\"] <(curr[\"mean\"]) ].index.values)\n",
      "C:\\Users\\kulde\\AppData\\Local\\Temp\\ipykernel_1696\\444315550.py:13: UserWarning: Boolean Series key will be reindexed to match DataFrame index.\n",
      "  exclude_index = np.append(exclude_index , df_bhk[df[\"price_per_sqft\"] <(curr[\"mean\"]) ].index.values)\n",
      "C:\\Users\\kulde\\AppData\\Local\\Temp\\ipykernel_1696\\444315550.py:13: UserWarning: Boolean Series key will be reindexed to match DataFrame index.\n",
      "  exclude_index = np.append(exclude_index , df_bhk[df[\"price_per_sqft\"] <(curr[\"mean\"]) ].index.values)\n",
      "C:\\Users\\kulde\\AppData\\Local\\Temp\\ipykernel_1696\\444315550.py:13: UserWarning: Boolean Series key will be reindexed to match DataFrame index.\n",
      "  exclude_index = np.append(exclude_index , df_bhk[df[\"price_per_sqft\"] <(curr[\"mean\"]) ].index.values)\n",
      "C:\\Users\\kulde\\AppData\\Local\\Temp\\ipykernel_1696\\444315550.py:13: UserWarning: Boolean Series key will be reindexed to match DataFrame index.\n",
      "  exclude_index = np.append(exclude_index , df_bhk[df[\"price_per_sqft\"] <(curr[\"mean\"]) ].index.values)\n",
      "C:\\Users\\kulde\\AppData\\Local\\Temp\\ipykernel_1696\\444315550.py:13: UserWarning: Boolean Series key will be reindexed to match DataFrame index.\n",
      "  exclude_index = np.append(exclude_index , df_bhk[df[\"price_per_sqft\"] <(curr[\"mean\"]) ].index.values)\n",
      "C:\\Users\\kulde\\AppData\\Local\\Temp\\ipykernel_1696\\444315550.py:13: UserWarning: Boolean Series key will be reindexed to match DataFrame index.\n",
      "  exclude_index = np.append(exclude_index , df_bhk[df[\"price_per_sqft\"] <(curr[\"mean\"]) ].index.values)\n",
      "C:\\Users\\kulde\\AppData\\Local\\Temp\\ipykernel_1696\\444315550.py:13: UserWarning: Boolean Series key will be reindexed to match DataFrame index.\n",
      "  exclude_index = np.append(exclude_index , df_bhk[df[\"price_per_sqft\"] <(curr[\"mean\"]) ].index.values)\n",
      "C:\\Users\\kulde\\AppData\\Local\\Temp\\ipykernel_1696\\444315550.py:13: UserWarning: Boolean Series key will be reindexed to match DataFrame index.\n",
      "  exclude_index = np.append(exclude_index , df_bhk[df[\"price_per_sqft\"] <(curr[\"mean\"]) ].index.values)\n",
      "C:\\Users\\kulde\\AppData\\Local\\Temp\\ipykernel_1696\\444315550.py:13: UserWarning: Boolean Series key will be reindexed to match DataFrame index.\n",
      "  exclude_index = np.append(exclude_index , df_bhk[df[\"price_per_sqft\"] <(curr[\"mean\"]) ].index.values)\n",
      "C:\\Users\\kulde\\AppData\\Local\\Temp\\ipykernel_1696\\444315550.py:13: UserWarning: Boolean Series key will be reindexed to match DataFrame index.\n",
      "  exclude_index = np.append(exclude_index , df_bhk[df[\"price_per_sqft\"] <(curr[\"mean\"]) ].index.values)\n",
      "C:\\Users\\kulde\\AppData\\Local\\Temp\\ipykernel_1696\\444315550.py:13: UserWarning: Boolean Series key will be reindexed to match DataFrame index.\n",
      "  exclude_index = np.append(exclude_index , df_bhk[df[\"price_per_sqft\"] <(curr[\"mean\"]) ].index.values)\n",
      "C:\\Users\\kulde\\AppData\\Local\\Temp\\ipykernel_1696\\444315550.py:13: UserWarning: Boolean Series key will be reindexed to match DataFrame index.\n",
      "  exclude_index = np.append(exclude_index , df_bhk[df[\"price_per_sqft\"] <(curr[\"mean\"]) ].index.values)\n",
      "C:\\Users\\kulde\\AppData\\Local\\Temp\\ipykernel_1696\\444315550.py:13: UserWarning: Boolean Series key will be reindexed to match DataFrame index.\n",
      "  exclude_index = np.append(exclude_index , df_bhk[df[\"price_per_sqft\"] <(curr[\"mean\"]) ].index.values)\n",
      "C:\\Users\\kulde\\AppData\\Local\\Temp\\ipykernel_1696\\444315550.py:13: UserWarning: Boolean Series key will be reindexed to match DataFrame index.\n",
      "  exclude_index = np.append(exclude_index , df_bhk[df[\"price_per_sqft\"] <(curr[\"mean\"]) ].index.values)\n",
      "C:\\Users\\kulde\\AppData\\Local\\Temp\\ipykernel_1696\\444315550.py:13: UserWarning: Boolean Series key will be reindexed to match DataFrame index.\n",
      "  exclude_index = np.append(exclude_index , df_bhk[df[\"price_per_sqft\"] <(curr[\"mean\"]) ].index.values)\n",
      "C:\\Users\\kulde\\AppData\\Local\\Temp\\ipykernel_1696\\444315550.py:13: UserWarning: Boolean Series key will be reindexed to match DataFrame index.\n",
      "  exclude_index = np.append(exclude_index , df_bhk[df[\"price_per_sqft\"] <(curr[\"mean\"]) ].index.values)\n",
      "C:\\Users\\kulde\\AppData\\Local\\Temp\\ipykernel_1696\\444315550.py:13: UserWarning: Boolean Series key will be reindexed to match DataFrame index.\n",
      "  exclude_index = np.append(exclude_index , df_bhk[df[\"price_per_sqft\"] <(curr[\"mean\"]) ].index.values)\n",
      "C:\\Users\\kulde\\AppData\\Local\\Temp\\ipykernel_1696\\444315550.py:13: UserWarning: Boolean Series key will be reindexed to match DataFrame index.\n",
      "  exclude_index = np.append(exclude_index , df_bhk[df[\"price_per_sqft\"] <(curr[\"mean\"]) ].index.values)\n",
      "C:\\Users\\kulde\\AppData\\Local\\Temp\\ipykernel_1696\\444315550.py:13: UserWarning: Boolean Series key will be reindexed to match DataFrame index.\n",
      "  exclude_index = np.append(exclude_index , df_bhk[df[\"price_per_sqft\"] <(curr[\"mean\"]) ].index.values)\n",
      "C:\\Users\\kulde\\AppData\\Local\\Temp\\ipykernel_1696\\444315550.py:13: UserWarning: Boolean Series key will be reindexed to match DataFrame index.\n",
      "  exclude_index = np.append(exclude_index , df_bhk[df[\"price_per_sqft\"] <(curr[\"mean\"]) ].index.values)\n",
      "C:\\Users\\kulde\\AppData\\Local\\Temp\\ipykernel_1696\\444315550.py:13: UserWarning: Boolean Series key will be reindexed to match DataFrame index.\n",
      "  exclude_index = np.append(exclude_index , df_bhk[df[\"price_per_sqft\"] <(curr[\"mean\"]) ].index.values)\n",
      "C:\\Users\\kulde\\AppData\\Local\\Temp\\ipykernel_1696\\444315550.py:13: UserWarning: Boolean Series key will be reindexed to match DataFrame index.\n",
      "  exclude_index = np.append(exclude_index , df_bhk[df[\"price_per_sqft\"] <(curr[\"mean\"]) ].index.values)\n",
      "C:\\Users\\kulde\\AppData\\Local\\Temp\\ipykernel_1696\\444315550.py:13: UserWarning: Boolean Series key will be reindexed to match DataFrame index.\n",
      "  exclude_index = np.append(exclude_index , df_bhk[df[\"price_per_sqft\"] <(curr[\"mean\"]) ].index.values)\n",
      "C:\\Users\\kulde\\AppData\\Local\\Temp\\ipykernel_1696\\444315550.py:13: UserWarning: Boolean Series key will be reindexed to match DataFrame index.\n",
      "  exclude_index = np.append(exclude_index , df_bhk[df[\"price_per_sqft\"] <(curr[\"mean\"]) ].index.values)\n",
      "C:\\Users\\kulde\\AppData\\Local\\Temp\\ipykernel_1696\\444315550.py:13: UserWarning: Boolean Series key will be reindexed to match DataFrame index.\n",
      "  exclude_index = np.append(exclude_index , df_bhk[df[\"price_per_sqft\"] <(curr[\"mean\"]) ].index.values)\n",
      "C:\\Users\\kulde\\AppData\\Local\\Temp\\ipykernel_1696\\444315550.py:13: UserWarning: Boolean Series key will be reindexed to match DataFrame index.\n",
      "  exclude_index = np.append(exclude_index , df_bhk[df[\"price_per_sqft\"] <(curr[\"mean\"]) ].index.values)\n",
      "C:\\Users\\kulde\\AppData\\Local\\Temp\\ipykernel_1696\\444315550.py:13: UserWarning: Boolean Series key will be reindexed to match DataFrame index.\n",
      "  exclude_index = np.append(exclude_index , df_bhk[df[\"price_per_sqft\"] <(curr[\"mean\"]) ].index.values)\n",
      "C:\\Users\\kulde\\AppData\\Local\\Temp\\ipykernel_1696\\444315550.py:13: UserWarning: Boolean Series key will be reindexed to match DataFrame index.\n",
      "  exclude_index = np.append(exclude_index , df_bhk[df[\"price_per_sqft\"] <(curr[\"mean\"]) ].index.values)\n",
      "C:\\Users\\kulde\\AppData\\Local\\Temp\\ipykernel_1696\\444315550.py:13: UserWarning: Boolean Series key will be reindexed to match DataFrame index.\n",
      "  exclude_index = np.append(exclude_index , df_bhk[df[\"price_per_sqft\"] <(curr[\"mean\"]) ].index.values)\n",
      "C:\\Users\\kulde\\AppData\\Local\\Temp\\ipykernel_1696\\444315550.py:13: UserWarning: Boolean Series key will be reindexed to match DataFrame index.\n",
      "  exclude_index = np.append(exclude_index , df_bhk[df[\"price_per_sqft\"] <(curr[\"mean\"]) ].index.values)\n",
      "C:\\Users\\kulde\\AppData\\Local\\Temp\\ipykernel_1696\\444315550.py:13: UserWarning: Boolean Series key will be reindexed to match DataFrame index.\n",
      "  exclude_index = np.append(exclude_index , df_bhk[df[\"price_per_sqft\"] <(curr[\"mean\"]) ].index.values)\n",
      "C:\\Users\\kulde\\AppData\\Local\\Temp\\ipykernel_1696\\444315550.py:13: UserWarning: Boolean Series key will be reindexed to match DataFrame index.\n",
      "  exclude_index = np.append(exclude_index , df_bhk[df[\"price_per_sqft\"] <(curr[\"mean\"]) ].index.values)\n",
      "C:\\Users\\kulde\\AppData\\Local\\Temp\\ipykernel_1696\\444315550.py:13: UserWarning: Boolean Series key will be reindexed to match DataFrame index.\n",
      "  exclude_index = np.append(exclude_index , df_bhk[df[\"price_per_sqft\"] <(curr[\"mean\"]) ].index.values)\n",
      "C:\\Users\\kulde\\AppData\\Local\\Temp\\ipykernel_1696\\444315550.py:13: UserWarning: Boolean Series key will be reindexed to match DataFrame index.\n",
      "  exclude_index = np.append(exclude_index , df_bhk[df[\"price_per_sqft\"] <(curr[\"mean\"]) ].index.values)\n",
      "C:\\Users\\kulde\\AppData\\Local\\Temp\\ipykernel_1696\\444315550.py:13: UserWarning: Boolean Series key will be reindexed to match DataFrame index.\n",
      "  exclude_index = np.append(exclude_index , df_bhk[df[\"price_per_sqft\"] <(curr[\"mean\"]) ].index.values)\n",
      "C:\\Users\\kulde\\AppData\\Local\\Temp\\ipykernel_1696\\444315550.py:13: UserWarning: Boolean Series key will be reindexed to match DataFrame index.\n",
      "  exclude_index = np.append(exclude_index , df_bhk[df[\"price_per_sqft\"] <(curr[\"mean\"]) ].index.values)\n",
      "C:\\Users\\kulde\\AppData\\Local\\Temp\\ipykernel_1696\\444315550.py:13: UserWarning: Boolean Series key will be reindexed to match DataFrame index.\n",
      "  exclude_index = np.append(exclude_index , df_bhk[df[\"price_per_sqft\"] <(curr[\"mean\"]) ].index.values)\n",
      "C:\\Users\\kulde\\AppData\\Local\\Temp\\ipykernel_1696\\444315550.py:13: UserWarning: Boolean Series key will be reindexed to match DataFrame index.\n",
      "  exclude_index = np.append(exclude_index , df_bhk[df[\"price_per_sqft\"] <(curr[\"mean\"]) ].index.values)\n",
      "C:\\Users\\kulde\\AppData\\Local\\Temp\\ipykernel_1696\\444315550.py:13: UserWarning: Boolean Series key will be reindexed to match DataFrame index.\n",
      "  exclude_index = np.append(exclude_index , df_bhk[df[\"price_per_sqft\"] <(curr[\"mean\"]) ].index.values)\n",
      "C:\\Users\\kulde\\AppData\\Local\\Temp\\ipykernel_1696\\444315550.py:13: UserWarning: Boolean Series key will be reindexed to match DataFrame index.\n",
      "  exclude_index = np.append(exclude_index , df_bhk[df[\"price_per_sqft\"] <(curr[\"mean\"]) ].index.values)\n",
      "C:\\Users\\kulde\\AppData\\Local\\Temp\\ipykernel_1696\\444315550.py:13: UserWarning: Boolean Series key will be reindexed to match DataFrame index.\n",
      "  exclude_index = np.append(exclude_index , df_bhk[df[\"price_per_sqft\"] <(curr[\"mean\"]) ].index.values)\n",
      "C:\\Users\\kulde\\AppData\\Local\\Temp\\ipykernel_1696\\444315550.py:13: UserWarning: Boolean Series key will be reindexed to match DataFrame index.\n",
      "  exclude_index = np.append(exclude_index , df_bhk[df[\"price_per_sqft\"] <(curr[\"mean\"]) ].index.values)\n",
      "C:\\Users\\kulde\\AppData\\Local\\Temp\\ipykernel_1696\\444315550.py:13: UserWarning: Boolean Series key will be reindexed to match DataFrame index.\n",
      "  exclude_index = np.append(exclude_index , df_bhk[df[\"price_per_sqft\"] <(curr[\"mean\"]) ].index.values)\n",
      "C:\\Users\\kulde\\AppData\\Local\\Temp\\ipykernel_1696\\444315550.py:13: UserWarning: Boolean Series key will be reindexed to match DataFrame index.\n",
      "  exclude_index = np.append(exclude_index , df_bhk[df[\"price_per_sqft\"] <(curr[\"mean\"]) ].index.values)\n",
      "C:\\Users\\kulde\\AppData\\Local\\Temp\\ipykernel_1696\\444315550.py:13: UserWarning: Boolean Series key will be reindexed to match DataFrame index.\n",
      "  exclude_index = np.append(exclude_index , df_bhk[df[\"price_per_sqft\"] <(curr[\"mean\"]) ].index.values)\n",
      "C:\\Users\\kulde\\AppData\\Local\\Temp\\ipykernel_1696\\444315550.py:13: UserWarning: Boolean Series key will be reindexed to match DataFrame index.\n",
      "  exclude_index = np.append(exclude_index , df_bhk[df[\"price_per_sqft\"] <(curr[\"mean\"]) ].index.values)\n",
      "C:\\Users\\kulde\\AppData\\Local\\Temp\\ipykernel_1696\\444315550.py:13: UserWarning: Boolean Series key will be reindexed to match DataFrame index.\n",
      "  exclude_index = np.append(exclude_index , df_bhk[df[\"price_per_sqft\"] <(curr[\"mean\"]) ].index.values)\n",
      "C:\\Users\\kulde\\AppData\\Local\\Temp\\ipykernel_1696\\444315550.py:13: UserWarning: Boolean Series key will be reindexed to match DataFrame index.\n",
      "  exclude_index = np.append(exclude_index , df_bhk[df[\"price_per_sqft\"] <(curr[\"mean\"]) ].index.values)\n",
      "C:\\Users\\kulde\\AppData\\Local\\Temp\\ipykernel_1696\\444315550.py:13: UserWarning: Boolean Series key will be reindexed to match DataFrame index.\n",
      "  exclude_index = np.append(exclude_index , df_bhk[df[\"price_per_sqft\"] <(curr[\"mean\"]) ].index.values)\n",
      "C:\\Users\\kulde\\AppData\\Local\\Temp\\ipykernel_1696\\444315550.py:13: UserWarning: Boolean Series key will be reindexed to match DataFrame index.\n",
      "  exclude_index = np.append(exclude_index , df_bhk[df[\"price_per_sqft\"] <(curr[\"mean\"]) ].index.values)\n",
      "C:\\Users\\kulde\\AppData\\Local\\Temp\\ipykernel_1696\\444315550.py:13: UserWarning: Boolean Series key will be reindexed to match DataFrame index.\n",
      "  exclude_index = np.append(exclude_index , df_bhk[df[\"price_per_sqft\"] <(curr[\"mean\"]) ].index.values)\n",
      "C:\\Users\\kulde\\AppData\\Local\\Temp\\ipykernel_1696\\444315550.py:13: UserWarning: Boolean Series key will be reindexed to match DataFrame index.\n",
      "  exclude_index = np.append(exclude_index , df_bhk[df[\"price_per_sqft\"] <(curr[\"mean\"]) ].index.values)\n",
      "C:\\Users\\kulde\\AppData\\Local\\Temp\\ipykernel_1696\\444315550.py:13: UserWarning: Boolean Series key will be reindexed to match DataFrame index.\n",
      "  exclude_index = np.append(exclude_index , df_bhk[df[\"price_per_sqft\"] <(curr[\"mean\"]) ].index.values)\n",
      "C:\\Users\\kulde\\AppData\\Local\\Temp\\ipykernel_1696\\444315550.py:13: UserWarning: Boolean Series key will be reindexed to match DataFrame index.\n",
      "  exclude_index = np.append(exclude_index , df_bhk[df[\"price_per_sqft\"] <(curr[\"mean\"]) ].index.values)\n",
      "C:\\Users\\kulde\\AppData\\Local\\Temp\\ipykernel_1696\\444315550.py:13: UserWarning: Boolean Series key will be reindexed to match DataFrame index.\n",
      "  exclude_index = np.append(exclude_index , df_bhk[df[\"price_per_sqft\"] <(curr[\"mean\"]) ].index.values)\n",
      "C:\\Users\\kulde\\AppData\\Local\\Temp\\ipykernel_1696\\444315550.py:13: UserWarning: Boolean Series key will be reindexed to match DataFrame index.\n",
      "  exclude_index = np.append(exclude_index , df_bhk[df[\"price_per_sqft\"] <(curr[\"mean\"]) ].index.values)\n",
      "C:\\Users\\kulde\\AppData\\Local\\Temp\\ipykernel_1696\\444315550.py:13: UserWarning: Boolean Series key will be reindexed to match DataFrame index.\n",
      "  exclude_index = np.append(exclude_index , df_bhk[df[\"price_per_sqft\"] <(curr[\"mean\"]) ].index.values)\n",
      "C:\\Users\\kulde\\AppData\\Local\\Temp\\ipykernel_1696\\444315550.py:13: UserWarning: Boolean Series key will be reindexed to match DataFrame index.\n",
      "  exclude_index = np.append(exclude_index , df_bhk[df[\"price_per_sqft\"] <(curr[\"mean\"]) ].index.values)\n",
      "C:\\Users\\kulde\\AppData\\Local\\Temp\\ipykernel_1696\\444315550.py:13: UserWarning: Boolean Series key will be reindexed to match DataFrame index.\n",
      "  exclude_index = np.append(exclude_index , df_bhk[df[\"price_per_sqft\"] <(curr[\"mean\"]) ].index.values)\n",
      "C:\\Users\\kulde\\AppData\\Local\\Temp\\ipykernel_1696\\444315550.py:13: UserWarning: Boolean Series key will be reindexed to match DataFrame index.\n",
      "  exclude_index = np.append(exclude_index , df_bhk[df[\"price_per_sqft\"] <(curr[\"mean\"]) ].index.values)\n",
      "C:\\Users\\kulde\\AppData\\Local\\Temp\\ipykernel_1696\\444315550.py:13: UserWarning: Boolean Series key will be reindexed to match DataFrame index.\n",
      "  exclude_index = np.append(exclude_index , df_bhk[df[\"price_per_sqft\"] <(curr[\"mean\"]) ].index.values)\n",
      "C:\\Users\\kulde\\AppData\\Local\\Temp\\ipykernel_1696\\444315550.py:13: UserWarning: Boolean Series key will be reindexed to match DataFrame index.\n",
      "  exclude_index = np.append(exclude_index , df_bhk[df[\"price_per_sqft\"] <(curr[\"mean\"]) ].index.values)\n",
      "C:\\Users\\kulde\\AppData\\Local\\Temp\\ipykernel_1696\\444315550.py:13: UserWarning: Boolean Series key will be reindexed to match DataFrame index.\n",
      "  exclude_index = np.append(exclude_index , df_bhk[df[\"price_per_sqft\"] <(curr[\"mean\"]) ].index.values)\n",
      "C:\\Users\\kulde\\AppData\\Local\\Temp\\ipykernel_1696\\444315550.py:13: UserWarning: Boolean Series key will be reindexed to match DataFrame index.\n",
      "  exclude_index = np.append(exclude_index , df_bhk[df[\"price_per_sqft\"] <(curr[\"mean\"]) ].index.values)\n",
      "C:\\Users\\kulde\\AppData\\Local\\Temp\\ipykernel_1696\\444315550.py:13: UserWarning: Boolean Series key will be reindexed to match DataFrame index.\n",
      "  exclude_index = np.append(exclude_index , df_bhk[df[\"price_per_sqft\"] <(curr[\"mean\"]) ].index.values)\n",
      "C:\\Users\\kulde\\AppData\\Local\\Temp\\ipykernel_1696\\444315550.py:13: UserWarning: Boolean Series key will be reindexed to match DataFrame index.\n",
      "  exclude_index = np.append(exclude_index , df_bhk[df[\"price_per_sqft\"] <(curr[\"mean\"]) ].index.values)\n",
      "C:\\Users\\kulde\\AppData\\Local\\Temp\\ipykernel_1696\\444315550.py:13: UserWarning: Boolean Series key will be reindexed to match DataFrame index.\n",
      "  exclude_index = np.append(exclude_index , df_bhk[df[\"price_per_sqft\"] <(curr[\"mean\"]) ].index.values)\n",
      "C:\\Users\\kulde\\AppData\\Local\\Temp\\ipykernel_1696\\444315550.py:13: UserWarning: Boolean Series key will be reindexed to match DataFrame index.\n",
      "  exclude_index = np.append(exclude_index , df_bhk[df[\"price_per_sqft\"] <(curr[\"mean\"]) ].index.values)\n",
      "C:\\Users\\kulde\\AppData\\Local\\Temp\\ipykernel_1696\\444315550.py:13: UserWarning: Boolean Series key will be reindexed to match DataFrame index.\n",
      "  exclude_index = np.append(exclude_index , df_bhk[df[\"price_per_sqft\"] <(curr[\"mean\"]) ].index.values)\n",
      "C:\\Users\\kulde\\AppData\\Local\\Temp\\ipykernel_1696\\444315550.py:13: UserWarning: Boolean Series key will be reindexed to match DataFrame index.\n",
      "  exclude_index = np.append(exclude_index , df_bhk[df[\"price_per_sqft\"] <(curr[\"mean\"]) ].index.values)\n",
      "C:\\Users\\kulde\\AppData\\Local\\Temp\\ipykernel_1696\\444315550.py:13: UserWarning: Boolean Series key will be reindexed to match DataFrame index.\n",
      "  exclude_index = np.append(exclude_index , df_bhk[df[\"price_per_sqft\"] <(curr[\"mean\"]) ].index.values)\n",
      "C:\\Users\\kulde\\AppData\\Local\\Temp\\ipykernel_1696\\444315550.py:13: UserWarning: Boolean Series key will be reindexed to match DataFrame index.\n",
      "  exclude_index = np.append(exclude_index , df_bhk[df[\"price_per_sqft\"] <(curr[\"mean\"]) ].index.values)\n",
      "C:\\Users\\kulde\\AppData\\Local\\Temp\\ipykernel_1696\\444315550.py:13: UserWarning: Boolean Series key will be reindexed to match DataFrame index.\n",
      "  exclude_index = np.append(exclude_index , df_bhk[df[\"price_per_sqft\"] <(curr[\"mean\"]) ].index.values)\n",
      "C:\\Users\\kulde\\AppData\\Local\\Temp\\ipykernel_1696\\444315550.py:13: UserWarning: Boolean Series key will be reindexed to match DataFrame index.\n",
      "  exclude_index = np.append(exclude_index , df_bhk[df[\"price_per_sqft\"] <(curr[\"mean\"]) ].index.values)\n",
      "C:\\Users\\kulde\\AppData\\Local\\Temp\\ipykernel_1696\\444315550.py:13: UserWarning: Boolean Series key will be reindexed to match DataFrame index.\n",
      "  exclude_index = np.append(exclude_index , df_bhk[df[\"price_per_sqft\"] <(curr[\"mean\"]) ].index.values)\n",
      "C:\\Users\\kulde\\AppData\\Local\\Temp\\ipykernel_1696\\444315550.py:13: UserWarning: Boolean Series key will be reindexed to match DataFrame index.\n",
      "  exclude_index = np.append(exclude_index , df_bhk[df[\"price_per_sqft\"] <(curr[\"mean\"]) ].index.values)\n",
      "C:\\Users\\kulde\\AppData\\Local\\Temp\\ipykernel_1696\\444315550.py:13: UserWarning: Boolean Series key will be reindexed to match DataFrame index.\n",
      "  exclude_index = np.append(exclude_index , df_bhk[df[\"price_per_sqft\"] <(curr[\"mean\"]) ].index.values)\n",
      "C:\\Users\\kulde\\AppData\\Local\\Temp\\ipykernel_1696\\444315550.py:13: UserWarning: Boolean Series key will be reindexed to match DataFrame index.\n",
      "  exclude_index = np.append(exclude_index , df_bhk[df[\"price_per_sqft\"] <(curr[\"mean\"]) ].index.values)\n",
      "C:\\Users\\kulde\\AppData\\Local\\Temp\\ipykernel_1696\\444315550.py:13: UserWarning: Boolean Series key will be reindexed to match DataFrame index.\n",
      "  exclude_index = np.append(exclude_index , df_bhk[df[\"price_per_sqft\"] <(curr[\"mean\"]) ].index.values)\n",
      "C:\\Users\\kulde\\AppData\\Local\\Temp\\ipykernel_1696\\444315550.py:13: UserWarning: Boolean Series key will be reindexed to match DataFrame index.\n",
      "  exclude_index = np.append(exclude_index , df_bhk[df[\"price_per_sqft\"] <(curr[\"mean\"]) ].index.values)\n",
      "C:\\Users\\kulde\\AppData\\Local\\Temp\\ipykernel_1696\\444315550.py:13: UserWarning: Boolean Series key will be reindexed to match DataFrame index.\n",
      "  exclude_index = np.append(exclude_index , df_bhk[df[\"price_per_sqft\"] <(curr[\"mean\"]) ].index.values)\n",
      "C:\\Users\\kulde\\AppData\\Local\\Temp\\ipykernel_1696\\444315550.py:13: UserWarning: Boolean Series key will be reindexed to match DataFrame index.\n",
      "  exclude_index = np.append(exclude_index , df_bhk[df[\"price_per_sqft\"] <(curr[\"mean\"]) ].index.values)\n",
      "C:\\Users\\kulde\\AppData\\Local\\Temp\\ipykernel_1696\\444315550.py:13: UserWarning: Boolean Series key will be reindexed to match DataFrame index.\n",
      "  exclude_index = np.append(exclude_index , df_bhk[df[\"price_per_sqft\"] <(curr[\"mean\"]) ].index.values)\n",
      "C:\\Users\\kulde\\AppData\\Local\\Temp\\ipykernel_1696\\444315550.py:13: UserWarning: Boolean Series key will be reindexed to match DataFrame index.\n",
      "  exclude_index = np.append(exclude_index , df_bhk[df[\"price_per_sqft\"] <(curr[\"mean\"]) ].index.values)\n",
      "C:\\Users\\kulde\\AppData\\Local\\Temp\\ipykernel_1696\\444315550.py:13: UserWarning: Boolean Series key will be reindexed to match DataFrame index.\n",
      "  exclude_index = np.append(exclude_index , df_bhk[df[\"price_per_sqft\"] <(curr[\"mean\"]) ].index.values)\n",
      "C:\\Users\\kulde\\AppData\\Local\\Temp\\ipykernel_1696\\444315550.py:13: UserWarning: Boolean Series key will be reindexed to match DataFrame index.\n",
      "  exclude_index = np.append(exclude_index , df_bhk[df[\"price_per_sqft\"] <(curr[\"mean\"]) ].index.values)\n",
      "C:\\Users\\kulde\\AppData\\Local\\Temp\\ipykernel_1696\\444315550.py:13: UserWarning: Boolean Series key will be reindexed to match DataFrame index.\n",
      "  exclude_index = np.append(exclude_index , df_bhk[df[\"price_per_sqft\"] <(curr[\"mean\"]) ].index.values)\n",
      "C:\\Users\\kulde\\AppData\\Local\\Temp\\ipykernel_1696\\444315550.py:13: UserWarning: Boolean Series key will be reindexed to match DataFrame index.\n",
      "  exclude_index = np.append(exclude_index , df_bhk[df[\"price_per_sqft\"] <(curr[\"mean\"]) ].index.values)\n",
      "C:\\Users\\kulde\\AppData\\Local\\Temp\\ipykernel_1696\\444315550.py:13: UserWarning: Boolean Series key will be reindexed to match DataFrame index.\n",
      "  exclude_index = np.append(exclude_index , df_bhk[df[\"price_per_sqft\"] <(curr[\"mean\"]) ].index.values)\n",
      "C:\\Users\\kulde\\AppData\\Local\\Temp\\ipykernel_1696\\444315550.py:13: UserWarning: Boolean Series key will be reindexed to match DataFrame index.\n",
      "  exclude_index = np.append(exclude_index , df_bhk[df[\"price_per_sqft\"] <(curr[\"mean\"]) ].index.values)\n",
      "C:\\Users\\kulde\\AppData\\Local\\Temp\\ipykernel_1696\\444315550.py:13: UserWarning: Boolean Series key will be reindexed to match DataFrame index.\n",
      "  exclude_index = np.append(exclude_index , df_bhk[df[\"price_per_sqft\"] <(curr[\"mean\"]) ].index.values)\n",
      "C:\\Users\\kulde\\AppData\\Local\\Temp\\ipykernel_1696\\444315550.py:13: UserWarning: Boolean Series key will be reindexed to match DataFrame index.\n",
      "  exclude_index = np.append(exclude_index , df_bhk[df[\"price_per_sqft\"] <(curr[\"mean\"]) ].index.values)\n",
      "C:\\Users\\kulde\\AppData\\Local\\Temp\\ipykernel_1696\\444315550.py:13: UserWarning: Boolean Series key will be reindexed to match DataFrame index.\n",
      "  exclude_index = np.append(exclude_index , df_bhk[df[\"price_per_sqft\"] <(curr[\"mean\"]) ].index.values)\n",
      "C:\\Users\\kulde\\AppData\\Local\\Temp\\ipykernel_1696\\444315550.py:13: UserWarning: Boolean Series key will be reindexed to match DataFrame index.\n",
      "  exclude_index = np.append(exclude_index , df_bhk[df[\"price_per_sqft\"] <(curr[\"mean\"]) ].index.values)\n",
      "C:\\Users\\kulde\\AppData\\Local\\Temp\\ipykernel_1696\\444315550.py:13: UserWarning: Boolean Series key will be reindexed to match DataFrame index.\n",
      "  exclude_index = np.append(exclude_index , df_bhk[df[\"price_per_sqft\"] <(curr[\"mean\"]) ].index.values)\n",
      "C:\\Users\\kulde\\AppData\\Local\\Temp\\ipykernel_1696\\444315550.py:13: UserWarning: Boolean Series key will be reindexed to match DataFrame index.\n",
      "  exclude_index = np.append(exclude_index , df_bhk[df[\"price_per_sqft\"] <(curr[\"mean\"]) ].index.values)\n",
      "C:\\Users\\kulde\\AppData\\Local\\Temp\\ipykernel_1696\\444315550.py:13: UserWarning: Boolean Series key will be reindexed to match DataFrame index.\n",
      "  exclude_index = np.append(exclude_index , df_bhk[df[\"price_per_sqft\"] <(curr[\"mean\"]) ].index.values)\n",
      "C:\\Users\\kulde\\AppData\\Local\\Temp\\ipykernel_1696\\444315550.py:13: UserWarning: Boolean Series key will be reindexed to match DataFrame index.\n",
      "  exclude_index = np.append(exclude_index , df_bhk[df[\"price_per_sqft\"] <(curr[\"mean\"]) ].index.values)\n",
      "C:\\Users\\kulde\\AppData\\Local\\Temp\\ipykernel_1696\\444315550.py:13: UserWarning: Boolean Series key will be reindexed to match DataFrame index.\n",
      "  exclude_index = np.append(exclude_index , df_bhk[df[\"price_per_sqft\"] <(curr[\"mean\"]) ].index.values)\n",
      "C:\\Users\\kulde\\AppData\\Local\\Temp\\ipykernel_1696\\444315550.py:13: UserWarning: Boolean Series key will be reindexed to match DataFrame index.\n",
      "  exclude_index = np.append(exclude_index , df_bhk[df[\"price_per_sqft\"] <(curr[\"mean\"]) ].index.values)\n",
      "C:\\Users\\kulde\\AppData\\Local\\Temp\\ipykernel_1696\\444315550.py:13: UserWarning: Boolean Series key will be reindexed to match DataFrame index.\n",
      "  exclude_index = np.append(exclude_index , df_bhk[df[\"price_per_sqft\"] <(curr[\"mean\"]) ].index.values)\n",
      "C:\\Users\\kulde\\AppData\\Local\\Temp\\ipykernel_1696\\444315550.py:13: UserWarning: Boolean Series key will be reindexed to match DataFrame index.\n",
      "  exclude_index = np.append(exclude_index , df_bhk[df[\"price_per_sqft\"] <(curr[\"mean\"]) ].index.values)\n",
      "C:\\Users\\kulde\\AppData\\Local\\Temp\\ipykernel_1696\\444315550.py:13: UserWarning: Boolean Series key will be reindexed to match DataFrame index.\n",
      "  exclude_index = np.append(exclude_index , df_bhk[df[\"price_per_sqft\"] <(curr[\"mean\"]) ].index.values)\n",
      "C:\\Users\\kulde\\AppData\\Local\\Temp\\ipykernel_1696\\444315550.py:13: UserWarning: Boolean Series key will be reindexed to match DataFrame index.\n",
      "  exclude_index = np.append(exclude_index , df_bhk[df[\"price_per_sqft\"] <(curr[\"mean\"]) ].index.values)\n",
      "C:\\Users\\kulde\\AppData\\Local\\Temp\\ipykernel_1696\\444315550.py:13: UserWarning: Boolean Series key will be reindexed to match DataFrame index.\n",
      "  exclude_index = np.append(exclude_index , df_bhk[df[\"price_per_sqft\"] <(curr[\"mean\"]) ].index.values)\n",
      "C:\\Users\\kulde\\AppData\\Local\\Temp\\ipykernel_1696\\444315550.py:13: UserWarning: Boolean Series key will be reindexed to match DataFrame index.\n",
      "  exclude_index = np.append(exclude_index , df_bhk[df[\"price_per_sqft\"] <(curr[\"mean\"]) ].index.values)\n",
      "C:\\Users\\kulde\\AppData\\Local\\Temp\\ipykernel_1696\\444315550.py:13: UserWarning: Boolean Series key will be reindexed to match DataFrame index.\n",
      "  exclude_index = np.append(exclude_index , df_bhk[df[\"price_per_sqft\"] <(curr[\"mean\"]) ].index.values)\n",
      "C:\\Users\\kulde\\AppData\\Local\\Temp\\ipykernel_1696\\444315550.py:13: UserWarning: Boolean Series key will be reindexed to match DataFrame index.\n",
      "  exclude_index = np.append(exclude_index , df_bhk[df[\"price_per_sqft\"] <(curr[\"mean\"]) ].index.values)\n",
      "C:\\Users\\kulde\\AppData\\Local\\Temp\\ipykernel_1696\\444315550.py:13: UserWarning: Boolean Series key will be reindexed to match DataFrame index.\n",
      "  exclude_index = np.append(exclude_index , df_bhk[df[\"price_per_sqft\"] <(curr[\"mean\"]) ].index.values)\n",
      "C:\\Users\\kulde\\AppData\\Local\\Temp\\ipykernel_1696\\444315550.py:13: UserWarning: Boolean Series key will be reindexed to match DataFrame index.\n",
      "  exclude_index = np.append(exclude_index , df_bhk[df[\"price_per_sqft\"] <(curr[\"mean\"]) ].index.values)\n",
      "C:\\Users\\kulde\\AppData\\Local\\Temp\\ipykernel_1696\\444315550.py:13: UserWarning: Boolean Series key will be reindexed to match DataFrame index.\n",
      "  exclude_index = np.append(exclude_index , df_bhk[df[\"price_per_sqft\"] <(curr[\"mean\"]) ].index.values)\n",
      "C:\\Users\\kulde\\AppData\\Local\\Temp\\ipykernel_1696\\444315550.py:13: UserWarning: Boolean Series key will be reindexed to match DataFrame index.\n",
      "  exclude_index = np.append(exclude_index , df_bhk[df[\"price_per_sqft\"] <(curr[\"mean\"]) ].index.values)\n",
      "C:\\Users\\kulde\\AppData\\Local\\Temp\\ipykernel_1696\\444315550.py:13: UserWarning: Boolean Series key will be reindexed to match DataFrame index.\n",
      "  exclude_index = np.append(exclude_index , df_bhk[df[\"price_per_sqft\"] <(curr[\"mean\"]) ].index.values)\n",
      "C:\\Users\\kulde\\AppData\\Local\\Temp\\ipykernel_1696\\444315550.py:13: UserWarning: Boolean Series key will be reindexed to match DataFrame index.\n",
      "  exclude_index = np.append(exclude_index , df_bhk[df[\"price_per_sqft\"] <(curr[\"mean\"]) ].index.values)\n",
      "C:\\Users\\kulde\\AppData\\Local\\Temp\\ipykernel_1696\\444315550.py:13: UserWarning: Boolean Series key will be reindexed to match DataFrame index.\n",
      "  exclude_index = np.append(exclude_index , df_bhk[df[\"price_per_sqft\"] <(curr[\"mean\"]) ].index.values)\n",
      "C:\\Users\\kulde\\AppData\\Local\\Temp\\ipykernel_1696\\444315550.py:13: UserWarning: Boolean Series key will be reindexed to match DataFrame index.\n",
      "  exclude_index = np.append(exclude_index , df_bhk[df[\"price_per_sqft\"] <(curr[\"mean\"]) ].index.values)\n",
      "C:\\Users\\kulde\\AppData\\Local\\Temp\\ipykernel_1696\\444315550.py:13: UserWarning: Boolean Series key will be reindexed to match DataFrame index.\n",
      "  exclude_index = np.append(exclude_index , df_bhk[df[\"price_per_sqft\"] <(curr[\"mean\"]) ].index.values)\n",
      "C:\\Users\\kulde\\AppData\\Local\\Temp\\ipykernel_1696\\444315550.py:13: UserWarning: Boolean Series key will be reindexed to match DataFrame index.\n",
      "  exclude_index = np.append(exclude_index , df_bhk[df[\"price_per_sqft\"] <(curr[\"mean\"]) ].index.values)\n",
      "C:\\Users\\kulde\\AppData\\Local\\Temp\\ipykernel_1696\\444315550.py:13: UserWarning: Boolean Series key will be reindexed to match DataFrame index.\n",
      "  exclude_index = np.append(exclude_index , df_bhk[df[\"price_per_sqft\"] <(curr[\"mean\"]) ].index.values)\n",
      "C:\\Users\\kulde\\AppData\\Local\\Temp\\ipykernel_1696\\444315550.py:13: UserWarning: Boolean Series key will be reindexed to match DataFrame index.\n",
      "  exclude_index = np.append(exclude_index , df_bhk[df[\"price_per_sqft\"] <(curr[\"mean\"]) ].index.values)\n",
      "C:\\Users\\kulde\\AppData\\Local\\Temp\\ipykernel_1696\\444315550.py:13: UserWarning: Boolean Series key will be reindexed to match DataFrame index.\n",
      "  exclude_index = np.append(exclude_index , df_bhk[df[\"price_per_sqft\"] <(curr[\"mean\"]) ].index.values)\n",
      "C:\\Users\\kulde\\AppData\\Local\\Temp\\ipykernel_1696\\444315550.py:13: UserWarning: Boolean Series key will be reindexed to match DataFrame index.\n",
      "  exclude_index = np.append(exclude_index , df_bhk[df[\"price_per_sqft\"] <(curr[\"mean\"]) ].index.values)\n",
      "C:\\Users\\kulde\\AppData\\Local\\Temp\\ipykernel_1696\\444315550.py:13: UserWarning: Boolean Series key will be reindexed to match DataFrame index.\n",
      "  exclude_index = np.append(exclude_index , df_bhk[df[\"price_per_sqft\"] <(curr[\"mean\"]) ].index.values)\n",
      "C:\\Users\\kulde\\AppData\\Local\\Temp\\ipykernel_1696\\444315550.py:13: UserWarning: Boolean Series key will be reindexed to match DataFrame index.\n",
      "  exclude_index = np.append(exclude_index , df_bhk[df[\"price_per_sqft\"] <(curr[\"mean\"]) ].index.values)\n",
      "C:\\Users\\kulde\\AppData\\Local\\Temp\\ipykernel_1696\\444315550.py:13: UserWarning: Boolean Series key will be reindexed to match DataFrame index.\n",
      "  exclude_index = np.append(exclude_index , df_bhk[df[\"price_per_sqft\"] <(curr[\"mean\"]) ].index.values)\n",
      "C:\\Users\\kulde\\AppData\\Local\\Temp\\ipykernel_1696\\444315550.py:13: UserWarning: Boolean Series key will be reindexed to match DataFrame index.\n",
      "  exclude_index = np.append(exclude_index , df_bhk[df[\"price_per_sqft\"] <(curr[\"mean\"]) ].index.values)\n",
      "C:\\Users\\kulde\\AppData\\Local\\Temp\\ipykernel_1696\\444315550.py:13: UserWarning: Boolean Series key will be reindexed to match DataFrame index.\n",
      "  exclude_index = np.append(exclude_index , df_bhk[df[\"price_per_sqft\"] <(curr[\"mean\"]) ].index.values)\n",
      "C:\\Users\\kulde\\AppData\\Local\\Temp\\ipykernel_1696\\444315550.py:13: UserWarning: Boolean Series key will be reindexed to match DataFrame index.\n",
      "  exclude_index = np.append(exclude_index , df_bhk[df[\"price_per_sqft\"] <(curr[\"mean\"]) ].index.values)\n",
      "C:\\Users\\kulde\\AppData\\Local\\Temp\\ipykernel_1696\\444315550.py:13: UserWarning: Boolean Series key will be reindexed to match DataFrame index.\n",
      "  exclude_index = np.append(exclude_index , df_bhk[df[\"price_per_sqft\"] <(curr[\"mean\"]) ].index.values)\n",
      "C:\\Users\\kulde\\AppData\\Local\\Temp\\ipykernel_1696\\444315550.py:13: UserWarning: Boolean Series key will be reindexed to match DataFrame index.\n",
      "  exclude_index = np.append(exclude_index , df_bhk[df[\"price_per_sqft\"] <(curr[\"mean\"]) ].index.values)\n",
      "C:\\Users\\kulde\\AppData\\Local\\Temp\\ipykernel_1696\\444315550.py:13: UserWarning: Boolean Series key will be reindexed to match DataFrame index.\n",
      "  exclude_index = np.append(exclude_index , df_bhk[df[\"price_per_sqft\"] <(curr[\"mean\"]) ].index.values)\n",
      "C:\\Users\\kulde\\AppData\\Local\\Temp\\ipykernel_1696\\444315550.py:13: UserWarning: Boolean Series key will be reindexed to match DataFrame index.\n",
      "  exclude_index = np.append(exclude_index , df_bhk[df[\"price_per_sqft\"] <(curr[\"mean\"]) ].index.values)\n",
      "C:\\Users\\kulde\\AppData\\Local\\Temp\\ipykernel_1696\\444315550.py:13: UserWarning: Boolean Series key will be reindexed to match DataFrame index.\n",
      "  exclude_index = np.append(exclude_index , df_bhk[df[\"price_per_sqft\"] <(curr[\"mean\"]) ].index.values)\n",
      "C:\\Users\\kulde\\AppData\\Local\\Temp\\ipykernel_1696\\444315550.py:13: UserWarning: Boolean Series key will be reindexed to match DataFrame index.\n",
      "  exclude_index = np.append(exclude_index , df_bhk[df[\"price_per_sqft\"] <(curr[\"mean\"]) ].index.values)\n",
      "C:\\Users\\kulde\\AppData\\Local\\Temp\\ipykernel_1696\\444315550.py:13: UserWarning: Boolean Series key will be reindexed to match DataFrame index.\n",
      "  exclude_index = np.append(exclude_index , df_bhk[df[\"price_per_sqft\"] <(curr[\"mean\"]) ].index.values)\n",
      "C:\\Users\\kulde\\AppData\\Local\\Temp\\ipykernel_1696\\444315550.py:13: UserWarning: Boolean Series key will be reindexed to match DataFrame index.\n",
      "  exclude_index = np.append(exclude_index , df_bhk[df[\"price_per_sqft\"] <(curr[\"mean\"]) ].index.values)\n",
      "C:\\Users\\kulde\\AppData\\Local\\Temp\\ipykernel_1696\\444315550.py:13: UserWarning: Boolean Series key will be reindexed to match DataFrame index.\n",
      "  exclude_index = np.append(exclude_index , df_bhk[df[\"price_per_sqft\"] <(curr[\"mean\"]) ].index.values)\n",
      "C:\\Users\\kulde\\AppData\\Local\\Temp\\ipykernel_1696\\444315550.py:13: UserWarning: Boolean Series key will be reindexed to match DataFrame index.\n",
      "  exclude_index = np.append(exclude_index , df_bhk[df[\"price_per_sqft\"] <(curr[\"mean\"]) ].index.values)\n",
      "C:\\Users\\kulde\\AppData\\Local\\Temp\\ipykernel_1696\\444315550.py:13: UserWarning: Boolean Series key will be reindexed to match DataFrame index.\n",
      "  exclude_index = np.append(exclude_index , df_bhk[df[\"price_per_sqft\"] <(curr[\"mean\"]) ].index.values)\n",
      "C:\\Users\\kulde\\AppData\\Local\\Temp\\ipykernel_1696\\444315550.py:13: UserWarning: Boolean Series key will be reindexed to match DataFrame index.\n",
      "  exclude_index = np.append(exclude_index , df_bhk[df[\"price_per_sqft\"] <(curr[\"mean\"]) ].index.values)\n",
      "C:\\Users\\kulde\\AppData\\Local\\Temp\\ipykernel_1696\\444315550.py:13: UserWarning: Boolean Series key will be reindexed to match DataFrame index.\n",
      "  exclude_index = np.append(exclude_index , df_bhk[df[\"price_per_sqft\"] <(curr[\"mean\"]) ].index.values)\n",
      "C:\\Users\\kulde\\AppData\\Local\\Temp\\ipykernel_1696\\444315550.py:13: UserWarning: Boolean Series key will be reindexed to match DataFrame index.\n",
      "  exclude_index = np.append(exclude_index , df_bhk[df[\"price_per_sqft\"] <(curr[\"mean\"]) ].index.values)\n",
      "C:\\Users\\kulde\\AppData\\Local\\Temp\\ipykernel_1696\\444315550.py:13: UserWarning: Boolean Series key will be reindexed to match DataFrame index.\n",
      "  exclude_index = np.append(exclude_index , df_bhk[df[\"price_per_sqft\"] <(curr[\"mean\"]) ].index.values)\n",
      "C:\\Users\\kulde\\AppData\\Local\\Temp\\ipykernel_1696\\444315550.py:13: UserWarning: Boolean Series key will be reindexed to match DataFrame index.\n",
      "  exclude_index = np.append(exclude_index , df_bhk[df[\"price_per_sqft\"] <(curr[\"mean\"]) ].index.values)\n",
      "C:\\Users\\kulde\\AppData\\Local\\Temp\\ipykernel_1696\\444315550.py:13: UserWarning: Boolean Series key will be reindexed to match DataFrame index.\n",
      "  exclude_index = np.append(exclude_index , df_bhk[df[\"price_per_sqft\"] <(curr[\"mean\"]) ].index.values)\n",
      "C:\\Users\\kulde\\AppData\\Local\\Temp\\ipykernel_1696\\444315550.py:13: UserWarning: Boolean Series key will be reindexed to match DataFrame index.\n",
      "  exclude_index = np.append(exclude_index , df_bhk[df[\"price_per_sqft\"] <(curr[\"mean\"]) ].index.values)\n",
      "C:\\Users\\kulde\\AppData\\Local\\Temp\\ipykernel_1696\\444315550.py:13: UserWarning: Boolean Series key will be reindexed to match DataFrame index.\n",
      "  exclude_index = np.append(exclude_index , df_bhk[df[\"price_per_sqft\"] <(curr[\"mean\"]) ].index.values)\n",
      "C:\\Users\\kulde\\AppData\\Local\\Temp\\ipykernel_1696\\444315550.py:13: UserWarning: Boolean Series key will be reindexed to match DataFrame index.\n",
      "  exclude_index = np.append(exclude_index , df_bhk[df[\"price_per_sqft\"] <(curr[\"mean\"]) ].index.values)\n",
      "C:\\Users\\kulde\\AppData\\Local\\Temp\\ipykernel_1696\\444315550.py:13: UserWarning: Boolean Series key will be reindexed to match DataFrame index.\n",
      "  exclude_index = np.append(exclude_index , df_bhk[df[\"price_per_sqft\"] <(curr[\"mean\"]) ].index.values)\n",
      "C:\\Users\\kulde\\AppData\\Local\\Temp\\ipykernel_1696\\444315550.py:13: UserWarning: Boolean Series key will be reindexed to match DataFrame index.\n",
      "  exclude_index = np.append(exclude_index , df_bhk[df[\"price_per_sqft\"] <(curr[\"mean\"]) ].index.values)\n",
      "C:\\Users\\kulde\\AppData\\Local\\Temp\\ipykernel_1696\\444315550.py:13: UserWarning: Boolean Series key will be reindexed to match DataFrame index.\n",
      "  exclude_index = np.append(exclude_index , df_bhk[df[\"price_per_sqft\"] <(curr[\"mean\"]) ].index.values)\n",
      "C:\\Users\\kulde\\AppData\\Local\\Temp\\ipykernel_1696\\444315550.py:13: UserWarning: Boolean Series key will be reindexed to match DataFrame index.\n",
      "  exclude_index = np.append(exclude_index , df_bhk[df[\"price_per_sqft\"] <(curr[\"mean\"]) ].index.values)\n",
      "C:\\Users\\kulde\\AppData\\Local\\Temp\\ipykernel_1696\\444315550.py:13: UserWarning: Boolean Series key will be reindexed to match DataFrame index.\n",
      "  exclude_index = np.append(exclude_index , df_bhk[df[\"price_per_sqft\"] <(curr[\"mean\"]) ].index.values)\n",
      "C:\\Users\\kulde\\AppData\\Local\\Temp\\ipykernel_1696\\444315550.py:13: UserWarning: Boolean Series key will be reindexed to match DataFrame index.\n",
      "  exclude_index = np.append(exclude_index , df_bhk[df[\"price_per_sqft\"] <(curr[\"mean\"]) ].index.values)\n",
      "C:\\Users\\kulde\\AppData\\Local\\Temp\\ipykernel_1696\\444315550.py:13: UserWarning: Boolean Series key will be reindexed to match DataFrame index.\n",
      "  exclude_index = np.append(exclude_index , df_bhk[df[\"price_per_sqft\"] <(curr[\"mean\"]) ].index.values)\n",
      "C:\\Users\\kulde\\AppData\\Local\\Temp\\ipykernel_1696\\444315550.py:13: UserWarning: Boolean Series key will be reindexed to match DataFrame index.\n",
      "  exclude_index = np.append(exclude_index , df_bhk[df[\"price_per_sqft\"] <(curr[\"mean\"]) ].index.values)\n",
      "C:\\Users\\kulde\\AppData\\Local\\Temp\\ipykernel_1696\\444315550.py:13: UserWarning: Boolean Series key will be reindexed to match DataFrame index.\n",
      "  exclude_index = np.append(exclude_index , df_bhk[df[\"price_per_sqft\"] <(curr[\"mean\"]) ].index.values)\n",
      "C:\\Users\\kulde\\AppData\\Local\\Temp\\ipykernel_1696\\444315550.py:13: UserWarning: Boolean Series key will be reindexed to match DataFrame index.\n",
      "  exclude_index = np.append(exclude_index , df_bhk[df[\"price_per_sqft\"] <(curr[\"mean\"]) ].index.values)\n",
      "C:\\Users\\kulde\\AppData\\Local\\Temp\\ipykernel_1696\\444315550.py:13: UserWarning: Boolean Series key will be reindexed to match DataFrame index.\n",
      "  exclude_index = np.append(exclude_index , df_bhk[df[\"price_per_sqft\"] <(curr[\"mean\"]) ].index.values)\n",
      "C:\\Users\\kulde\\AppData\\Local\\Temp\\ipykernel_1696\\444315550.py:13: UserWarning: Boolean Series key will be reindexed to match DataFrame index.\n",
      "  exclude_index = np.append(exclude_index , df_bhk[df[\"price_per_sqft\"] <(curr[\"mean\"]) ].index.values)\n",
      "C:\\Users\\kulde\\AppData\\Local\\Temp\\ipykernel_1696\\444315550.py:13: UserWarning: Boolean Series key will be reindexed to match DataFrame index.\n",
      "  exclude_index = np.append(exclude_index , df_bhk[df[\"price_per_sqft\"] <(curr[\"mean\"]) ].index.values)\n",
      "C:\\Users\\kulde\\AppData\\Local\\Temp\\ipykernel_1696\\444315550.py:13: UserWarning: Boolean Series key will be reindexed to match DataFrame index.\n",
      "  exclude_index = np.append(exclude_index , df_bhk[df[\"price_per_sqft\"] <(curr[\"mean\"]) ].index.values)\n",
      "C:\\Users\\kulde\\AppData\\Local\\Temp\\ipykernel_1696\\444315550.py:13: UserWarning: Boolean Series key will be reindexed to match DataFrame index.\n",
      "  exclude_index = np.append(exclude_index , df_bhk[df[\"price_per_sqft\"] <(curr[\"mean\"]) ].index.values)\n",
      "C:\\Users\\kulde\\AppData\\Local\\Temp\\ipykernel_1696\\444315550.py:13: UserWarning: Boolean Series key will be reindexed to match DataFrame index.\n",
      "  exclude_index = np.append(exclude_index , df_bhk[df[\"price_per_sqft\"] <(curr[\"mean\"]) ].index.values)\n",
      "C:\\Users\\kulde\\AppData\\Local\\Temp\\ipykernel_1696\\444315550.py:13: UserWarning: Boolean Series key will be reindexed to match DataFrame index.\n",
      "  exclude_index = np.append(exclude_index , df_bhk[df[\"price_per_sqft\"] <(curr[\"mean\"]) ].index.values)\n",
      "C:\\Users\\kulde\\AppData\\Local\\Temp\\ipykernel_1696\\444315550.py:13: UserWarning: Boolean Series key will be reindexed to match DataFrame index.\n",
      "  exclude_index = np.append(exclude_index , df_bhk[df[\"price_per_sqft\"] <(curr[\"mean\"]) ].index.values)\n",
      "C:\\Users\\kulde\\AppData\\Local\\Temp\\ipykernel_1696\\444315550.py:13: UserWarning: Boolean Series key will be reindexed to match DataFrame index.\n",
      "  exclude_index = np.append(exclude_index , df_bhk[df[\"price_per_sqft\"] <(curr[\"mean\"]) ].index.values)\n",
      "C:\\Users\\kulde\\AppData\\Local\\Temp\\ipykernel_1696\\444315550.py:13: UserWarning: Boolean Series key will be reindexed to match DataFrame index.\n",
      "  exclude_index = np.append(exclude_index , df_bhk[df[\"price_per_sqft\"] <(curr[\"mean\"]) ].index.values)\n",
      "C:\\Users\\kulde\\AppData\\Local\\Temp\\ipykernel_1696\\444315550.py:13: UserWarning: Boolean Series key will be reindexed to match DataFrame index.\n",
      "  exclude_index = np.append(exclude_index , df_bhk[df[\"price_per_sqft\"] <(curr[\"mean\"]) ].index.values)\n",
      "C:\\Users\\kulde\\AppData\\Local\\Temp\\ipykernel_1696\\444315550.py:13: UserWarning: Boolean Series key will be reindexed to match DataFrame index.\n",
      "  exclude_index = np.append(exclude_index , df_bhk[df[\"price_per_sqft\"] <(curr[\"mean\"]) ].index.values)\n",
      "C:\\Users\\kulde\\AppData\\Local\\Temp\\ipykernel_1696\\444315550.py:13: UserWarning: Boolean Series key will be reindexed to match DataFrame index.\n",
      "  exclude_index = np.append(exclude_index , df_bhk[df[\"price_per_sqft\"] <(curr[\"mean\"]) ].index.values)\n",
      "C:\\Users\\kulde\\AppData\\Local\\Temp\\ipykernel_1696\\444315550.py:13: UserWarning: Boolean Series key will be reindexed to match DataFrame index.\n",
      "  exclude_index = np.append(exclude_index , df_bhk[df[\"price_per_sqft\"] <(curr[\"mean\"]) ].index.values)\n",
      "C:\\Users\\kulde\\AppData\\Local\\Temp\\ipykernel_1696\\444315550.py:13: UserWarning: Boolean Series key will be reindexed to match DataFrame index.\n",
      "  exclude_index = np.append(exclude_index , df_bhk[df[\"price_per_sqft\"] <(curr[\"mean\"]) ].index.values)\n",
      "C:\\Users\\kulde\\AppData\\Local\\Temp\\ipykernel_1696\\444315550.py:13: UserWarning: Boolean Series key will be reindexed to match DataFrame index.\n",
      "  exclude_index = np.append(exclude_index , df_bhk[df[\"price_per_sqft\"] <(curr[\"mean\"]) ].index.values)\n",
      "C:\\Users\\kulde\\AppData\\Local\\Temp\\ipykernel_1696\\444315550.py:13: UserWarning: Boolean Series key will be reindexed to match DataFrame index.\n",
      "  exclude_index = np.append(exclude_index , df_bhk[df[\"price_per_sqft\"] <(curr[\"mean\"]) ].index.values)\n",
      "C:\\Users\\kulde\\AppData\\Local\\Temp\\ipykernel_1696\\444315550.py:13: UserWarning: Boolean Series key will be reindexed to match DataFrame index.\n",
      "  exclude_index = np.append(exclude_index , df_bhk[df[\"price_per_sqft\"] <(curr[\"mean\"]) ].index.values)\n",
      "C:\\Users\\kulde\\AppData\\Local\\Temp\\ipykernel_1696\\444315550.py:13: UserWarning: Boolean Series key will be reindexed to match DataFrame index.\n",
      "  exclude_index = np.append(exclude_index , df_bhk[df[\"price_per_sqft\"] <(curr[\"mean\"]) ].index.values)\n",
      "C:\\Users\\kulde\\AppData\\Local\\Temp\\ipykernel_1696\\444315550.py:13: UserWarning: Boolean Series key will be reindexed to match DataFrame index.\n",
      "  exclude_index = np.append(exclude_index , df_bhk[df[\"price_per_sqft\"] <(curr[\"mean\"]) ].index.values)\n",
      "C:\\Users\\kulde\\AppData\\Local\\Temp\\ipykernel_1696\\444315550.py:13: UserWarning: Boolean Series key will be reindexed to match DataFrame index.\n",
      "  exclude_index = np.append(exclude_index , df_bhk[df[\"price_per_sqft\"] <(curr[\"mean\"]) ].index.values)\n",
      "C:\\Users\\kulde\\AppData\\Local\\Temp\\ipykernel_1696\\444315550.py:13: UserWarning: Boolean Series key will be reindexed to match DataFrame index.\n",
      "  exclude_index = np.append(exclude_index , df_bhk[df[\"price_per_sqft\"] <(curr[\"mean\"]) ].index.values)\n",
      "C:\\Users\\kulde\\AppData\\Local\\Temp\\ipykernel_1696\\444315550.py:13: UserWarning: Boolean Series key will be reindexed to match DataFrame index.\n",
      "  exclude_index = np.append(exclude_index , df_bhk[df[\"price_per_sqft\"] <(curr[\"mean\"]) ].index.values)\n",
      "C:\\Users\\kulde\\AppData\\Local\\Temp\\ipykernel_1696\\444315550.py:13: UserWarning: Boolean Series key will be reindexed to match DataFrame index.\n",
      "  exclude_index = np.append(exclude_index , df_bhk[df[\"price_per_sqft\"] <(curr[\"mean\"]) ].index.values)\n",
      "C:\\Users\\kulde\\AppData\\Local\\Temp\\ipykernel_1696\\444315550.py:13: UserWarning: Boolean Series key will be reindexed to match DataFrame index.\n",
      "  exclude_index = np.append(exclude_index , df_bhk[df[\"price_per_sqft\"] <(curr[\"mean\"]) ].index.values)\n",
      "C:\\Users\\kulde\\AppData\\Local\\Temp\\ipykernel_1696\\444315550.py:13: UserWarning: Boolean Series key will be reindexed to match DataFrame index.\n",
      "  exclude_index = np.append(exclude_index , df_bhk[df[\"price_per_sqft\"] <(curr[\"mean\"]) ].index.values)\n",
      "C:\\Users\\kulde\\AppData\\Local\\Temp\\ipykernel_1696\\444315550.py:13: UserWarning: Boolean Series key will be reindexed to match DataFrame index.\n",
      "  exclude_index = np.append(exclude_index , df_bhk[df[\"price_per_sqft\"] <(curr[\"mean\"]) ].index.values)\n",
      "C:\\Users\\kulde\\AppData\\Local\\Temp\\ipykernel_1696\\444315550.py:13: UserWarning: Boolean Series key will be reindexed to match DataFrame index.\n",
      "  exclude_index = np.append(exclude_index , df_bhk[df[\"price_per_sqft\"] <(curr[\"mean\"]) ].index.values)\n"
     ]
    },
    {
     "data": {
      "text/plain": [
       "(6213, 7)"
      ]
     },
     "execution_count": 59,
     "metadata": {},
     "output_type": "execute_result"
    }
   ],
   "source": [
    "df4 = remove_per_bhk(df3)\n",
    "df4.shape"
   ]
  },
  {
   "cell_type": "code",
   "execution_count": 60,
   "metadata": {},
   "outputs": [
    {
     "data": {
      "image/png": "[encoded data removed]",
      "text/plain": [
       "<Figure size 640x480 with 1 Axes>"
      ]
     },
     "metadata": {},
     "output_type": "display_data"
    }
   ],
   "source": [
    "plot_scatterplot(df4 ,\"Dommasandra\" )"
   ]
  },
  {
   "cell_type": "code",
   "execution_count": 61,
   "metadata": {},
   "outputs": [
    {
     "data": {
      "text/plain": [
       "(array([3.803e+03, 1.674e+03, 6.220e+02, 7.600e+01, 2.900e+01, 6.000e+00,\n",
       "        0.000e+00, 1.000e+00, 1.000e+00, 1.000e+00]),\n",
       " array([ 1. ,  2.5,  4. ,  5.5,  7. ,  8.5, 10. , 11.5, 13. , 14.5, 16. ]),\n",
       " <BarContainer object of 10 artists>)"
      ]
     },
     "execution_count": 61,
     "metadata": {},
     "output_type": "execute_result"
    },
    {
     "data": {
      "image/png": "[encoded data removed]",
      "text/plain": [
       "<Figure size 640x480 with 1 Axes>"
      ]
     },
     "metadata": {},
     "output_type": "display_data"
    }
   ],
   "source": [
    "plt.hist(df4[\"bath\"] , rwidth=0.9)"
   ]
  },
  {
   "cell_type": "code",
   "execution_count": 62,
   "metadata": {},
   "outputs": [
    {
     "data": {
      "text/html": [
       "<div>\n",
       "<style scoped>\n",
       "    .dataframe tbody tr th:only-of-type {\n",
       "        vertical-align: middle;\n",
       "    }\n",
       "\n",
       "    .dataframe tbody tr th {\n",
       "        vertical-align: top;\n",
       "    }\n",
       "\n",
       "    .dataframe thead th {\n",
       "        text-align: right;\n",
       "    }\n",
       "</style>\n",
       "<table border=\"1\" class=\"dataframe\">\n",
       "  <thead>\n",
       "    <tr style=\"text-align: right;\">\n",
       "      <th></th>\n",
       "      <th>location</th>\n",
       "      <th>size</th>\n",
       "      <th>total_sqft</th>\n",
       "      <th>bath</th>\n",
       "      <th>price</th>\n",
       "      <th>bhk</th>\n",
       "      <th>price_per_sqft</th>\n",
       "    </tr>\n",
       "  </thead>\n",
       "  <tbody>\n",
       "    <tr>\n",
       "      <th>5273</th>\n",
       "      <td>Nagasandra</td>\n",
       "      <td>4 Bedroom</td>\n",
       "      <td>7000.0</td>\n",
       "      <td>8.0</td>\n",
       "      <td>450.0</td>\n",
       "      <td>4</td>\n",
       "      <td>6428.571429</td>\n",
       "    </tr>\n",
       "    <tr>\n",
       "      <th>6756</th>\n",
       "      <td>Thanisandra</td>\n",
       "      <td>3 BHK</td>\n",
       "      <td>1806.0</td>\n",
       "      <td>6.0</td>\n",
       "      <td>116.0</td>\n",
       "      <td>3</td>\n",
       "      <td>6423.034330</td>\n",
       "    </tr>\n",
       "    <tr>\n",
       "      <th>8461</th>\n",
       "      <td>other_location</td>\n",
       "      <td>6 BHK</td>\n",
       "      <td>11338.0</td>\n",
       "      <td>9.0</td>\n",
       "      <td>1000.0</td>\n",
       "      <td>6</td>\n",
       "      <td>8819.897689</td>\n",
       "    </tr>\n",
       "  </tbody>\n",
       "</table>\n",
       "</div>"
      ],
      "text/plain": [
       "            location       size  total_sqft  bath   price  bhk  price_per_sqft\n",
       "5273      Nagasandra  4 Bedroom      7000.0   8.0   450.0    4     6428.571429\n",
       "6756     Thanisandra      3 BHK      1806.0   6.0   116.0    3     6423.034330\n",
       "8461  other_location      6 BHK     11338.0   9.0  1000.0    6     8819.897689"
      ]
     },
     "execution_count": 62,
     "metadata": {},
     "output_type": "execute_result"
    }
   ],
   "source": [
    "df4[df4[\"bath\"] > (df4[\"bhk\"]+2)]"
   ]
  },
  {
   "cell_type": "code",
   "execution_count": 63,
   "metadata": {},
   "outputs": [],
   "source": [
    "df5 = df4[df4[\"bath\"] < (df4[\"bhk\"]+2)]"
   ]
  },
  {
   "cell_type": "code",
   "execution_count": 64,
   "metadata": {},
   "outputs": [
    {
     "data": {
      "text/plain": [
       "(6137, 7)"
      ]
     },
     "execution_count": 64,
     "metadata": {},
     "output_type": "execute_result"
    }
   ],
   "source": [
    "df5.shape"
   ]
  },
  {
   "cell_type": "code",
   "execution_count": 65,
   "metadata": {},
   "outputs": [
    {
     "name": "stderr",
     "output_type": "stream",
     "text": [
      "C:\\Users\\kulde\\AppData\\Local\\Temp\\ipykernel_1696\\3222125182.py:1: SettingWithCopyWarning: \n",
      "A value is trying to be set on a copy of a slice from a DataFrame\n",
      "\n",
      "See the caveats in the documentation: https://pandas.pydata.org/pandas-docs/stable/user_guide/indexing.html#returning-a-view-versus-a-copy\n",
      "  df5.drop([\"size\" , \"price_per_sqft\"] , axis=1 , inplace=True)\n"
     ]
    }
   ],
   "source": [
    "df5.drop([\"size\" , \"price_per_sqft\"] , axis=1 , inplace=True)"
   ]
  },
  {
   "cell_type": "code",
   "execution_count": 66,
   "metadata": {},
   "outputs": [
    {
     "data": {
      "text/plain": [
       "(6137, 5)"
      ]
     },
     "execution_count": 66,
     "metadata": {},
     "output_type": "execute_result"
    }
   ],
   "source": [
    "df5.shape"
   ]
  },
  {
   "cell_type": "code",
   "execution_count": 67,
   "metadata": {},
   "outputs": [],
   "source": [
    "loc = pd.get_dummies(df5[\"location\"] )"
   ]
  },
  {
   "cell_type": "code",
   "execution_count": 68,
   "metadata": {},
   "outputs": [
    {
     "data": {
      "text/html": [
       "<div>\n",
       "<style scoped>\n",
       "    .dataframe tbody tr th:only-of-type {\n",
       "        vertical-align: middle;\n",
       "    }\n",
       "\n",
       "    .dataframe tbody tr th {\n",
       "        vertical-align: top;\n",
       "    }\n",
       "\n",
       "    .dataframe thead th {\n",
       "        text-align: right;\n",
       "    }\n",
       "</style>\n",
       "<table border=\"1\" class=\"dataframe\">\n",
       "  <thead>\n",
       "    <tr style=\"text-align: right;\">\n",
       "      <th></th>\n",
       "      <th>1st Block Jayanagar</th>\n",
       "      <th>1st Phase JP Nagar</th>\n",
       "      <th>2nd Phase Judicial Layout</th>\n",
       "      <th>2nd Stage Nagarbhavi</th>\n",
       "      <th>5th Block Hbr Layout</th>\n",
       "      <th>5th Phase JP Nagar</th>\n",
       "      <th>6th Phase JP Nagar</th>\n",
       "      <th>7th Phase JP Nagar</th>\n",
       "      <th>8th Phase JP Nagar</th>\n",
       "      <th>9th Phase JP Nagar</th>\n",
       "      <th>...</th>\n",
       "      <th>Vishveshwarya Layout</th>\n",
       "      <th>Vishwapriya Layout</th>\n",
       "      <th>Vittasandra</th>\n",
       "      <th>Whitefield</th>\n",
       "      <th>Yelachenahalli</th>\n",
       "      <th>Yelahanka</th>\n",
       "      <th>Yelahanka New Town</th>\n",
       "      <th>Yelenahalli</th>\n",
       "      <th>Yeshwanthpur</th>\n",
       "      <th>other_location</th>\n",
       "    </tr>\n",
       "  </thead>\n",
       "  <tbody>\n",
       "    <tr>\n",
       "      <th>0</th>\n",
       "      <td>1</td>\n",
       "      <td>0</td>\n",
       "      <td>0</td>\n",
       "      <td>0</td>\n",
       "      <td>0</td>\n",
       "      <td>0</td>\n",
       "      <td>0</td>\n",
       "      <td>0</td>\n",
       "      <td>0</td>\n",
       "      <td>0</td>\n",
       "      <td>...</td>\n",
       "      <td>0</td>\n",
       "      <td>0</td>\n",
       "      <td>0</td>\n",
       "      <td>0</td>\n",
       "      <td>0</td>\n",
       "      <td>0</td>\n",
       "      <td>0</td>\n",
       "      <td>0</td>\n",
       "      <td>0</td>\n",
       "      <td>0</td>\n",
       "    </tr>\n",
       "    <tr>\n",
       "      <th>2</th>\n",
       "      <td>1</td>\n",
       "      <td>0</td>\n",
       "      <td>0</td>\n",
       "      <td>0</td>\n",
       "      <td>0</td>\n",
       "      <td>0</td>\n",
       "      <td>0</td>\n",
       "      <td>0</td>\n",
       "      <td>0</td>\n",
       "      <td>0</td>\n",
       "      <td>...</td>\n",
       "      <td>0</td>\n",
       "      <td>0</td>\n",
       "      <td>0</td>\n",
       "      <td>0</td>\n",
       "      <td>0</td>\n",
       "      <td>0</td>\n",
       "      <td>0</td>\n",
       "      <td>0</td>\n",
       "      <td>0</td>\n",
       "      <td>0</td>\n",
       "    </tr>\n",
       "    <tr>\n",
       "      <th>4</th>\n",
       "      <td>1</td>\n",
       "      <td>0</td>\n",
       "      <td>0</td>\n",
       "      <td>0</td>\n",
       "      <td>0</td>\n",
       "      <td>0</td>\n",
       "      <td>0</td>\n",
       "      <td>0</td>\n",
       "      <td>0</td>\n",
       "      <td>0</td>\n",
       "      <td>...</td>\n",
       "      <td>0</td>\n",
       "      <td>0</td>\n",
       "      <td>0</td>\n",
       "      <td>0</td>\n",
       "      <td>0</td>\n",
       "      <td>0</td>\n",
       "      <td>0</td>\n",
       "      <td>0</td>\n",
       "      <td>0</td>\n",
       "      <td>0</td>\n",
       "    </tr>\n",
       "    <tr>\n",
       "      <th>5</th>\n",
       "      <td>1</td>\n",
       "      <td>0</td>\n",
       "      <td>0</td>\n",
       "      <td>0</td>\n",
       "      <td>0</td>\n",
       "      <td>0</td>\n",
       "      <td>0</td>\n",
       "      <td>0</td>\n",
       "      <td>0</td>\n",
       "      <td>0</td>\n",
       "      <td>...</td>\n",
       "      <td>0</td>\n",
       "      <td>0</td>\n",
       "      <td>0</td>\n",
       "      <td>0</td>\n",
       "      <td>0</td>\n",
       "      <td>0</td>\n",
       "      <td>0</td>\n",
       "      <td>0</td>\n",
       "      <td>0</td>\n",
       "      <td>0</td>\n",
       "    </tr>\n",
       "    <tr>\n",
       "      <th>6</th>\n",
       "      <td>1</td>\n",
       "      <td>0</td>\n",
       "      <td>0</td>\n",
       "      <td>0</td>\n",
       "      <td>0</td>\n",
       "      <td>0</td>\n",
       "      <td>0</td>\n",
       "      <td>0</td>\n",
       "      <td>0</td>\n",
       "      <td>0</td>\n",
       "      <td>...</td>\n",
       "      <td>0</td>\n",
       "      <td>0</td>\n",
       "      <td>0</td>\n",
       "      <td>0</td>\n",
       "      <td>0</td>\n",
       "      <td>0</td>\n",
       "      <td>0</td>\n",
       "      <td>0</td>\n",
       "      <td>0</td>\n",
       "      <td>0</td>\n",
       "    </tr>\n",
       "    <tr>\n",
       "      <th>...</th>\n",
       "      <td>...</td>\n",
       "      <td>...</td>\n",
       "      <td>...</td>\n",
       "      <td>...</td>\n",
       "      <td>...</td>\n",
       "      <td>...</td>\n",
       "      <td>...</td>\n",
       "      <td>...</td>\n",
       "      <td>...</td>\n",
       "      <td>...</td>\n",
       "      <td>...</td>\n",
       "      <td>...</td>\n",
       "      <td>...</td>\n",
       "      <td>...</td>\n",
       "      <td>...</td>\n",
       "      <td>...</td>\n",
       "      <td>...</td>\n",
       "      <td>...</td>\n",
       "      <td>...</td>\n",
       "      <td>...</td>\n",
       "      <td>...</td>\n",
       "    </tr>\n",
       "    <tr>\n",
       "      <th>10282</th>\n",
       "      <td>0</td>\n",
       "      <td>0</td>\n",
       "      <td>0</td>\n",
       "      <td>0</td>\n",
       "      <td>0</td>\n",
       "      <td>0</td>\n",
       "      <td>0</td>\n",
       "      <td>0</td>\n",
       "      <td>0</td>\n",
       "      <td>0</td>\n",
       "      <td>...</td>\n",
       "      <td>0</td>\n",
       "      <td>0</td>\n",
       "      <td>0</td>\n",
       "      <td>0</td>\n",
       "      <td>0</td>\n",
       "      <td>0</td>\n",
       "      <td>0</td>\n",
       "      <td>0</td>\n",
       "      <td>0</td>\n",
       "      <td>1</td>\n",
       "    </tr>\n",
       "    <tr>\n",
       "      <th>10283</th>\n",
       "      <td>0</td>\n",
       "      <td>0</td>\n",
       "      <td>0</td>\n",
       "      <td>0</td>\n",
       "      <td>0</td>\n",
       "      <td>0</td>\n",
       "      <td>0</td>\n",
       "      <td>0</td>\n",
       "      <td>0</td>\n",
       "      <td>0</td>\n",
       "      <td>...</td>\n",
       "      <td>0</td>\n",
       "      <td>0</td>\n",
       "      <td>0</td>\n",
       "      <td>0</td>\n",
       "      <td>0</td>\n",
       "      <td>0</td>\n",
       "      <td>0</td>\n",
       "      <td>0</td>\n",
       "      <td>0</td>\n",
       "      <td>1</td>\n",
       "    </tr>\n",
       "    <tr>\n",
       "      <th>10286</th>\n",
       "      <td>0</td>\n",
       "      <td>0</td>\n",
       "      <td>0</td>\n",
       "      <td>0</td>\n",
       "      <td>0</td>\n",
       "      <td>0</td>\n",
       "      <td>0</td>\n",
       "      <td>0</td>\n",
       "      <td>0</td>\n",
       "      <td>0</td>\n",
       "      <td>...</td>\n",
       "      <td>0</td>\n",
       "      <td>0</td>\n",
       "      <td>0</td>\n",
       "      <td>0</td>\n",
       "      <td>0</td>\n",
       "      <td>0</td>\n",
       "      <td>0</td>\n",
       "      <td>0</td>\n",
       "      <td>0</td>\n",
       "      <td>1</td>\n",
       "    </tr>\n",
       "    <tr>\n",
       "      <th>10287</th>\n",
       "      <td>0</td>\n",
       "      <td>0</td>\n",
       "      <td>0</td>\n",
       "      <td>0</td>\n",
       "      <td>0</td>\n",
       "      <td>0</td>\n",
       "      <td>0</td>\n",
       "      <td>0</td>\n",
       "      <td>0</td>\n",
       "      <td>0</td>\n",
       "      <td>...</td>\n",
       "      <td>0</td>\n",
       "      <td>0</td>\n",
       "      <td>0</td>\n",
       "      <td>0</td>\n",
       "      <td>0</td>\n",
       "      <td>0</td>\n",
       "      <td>0</td>\n",
       "      <td>0</td>\n",
       "      <td>0</td>\n",
       "      <td>1</td>\n",
       "    </tr>\n",
       "    <tr>\n",
       "      <th>10290</th>\n",
       "      <td>0</td>\n",
       "      <td>0</td>\n",
       "      <td>0</td>\n",
       "      <td>0</td>\n",
       "      <td>0</td>\n",
       "      <td>0</td>\n",
       "      <td>0</td>\n",
       "      <td>0</td>\n",
       "      <td>0</td>\n",
       "      <td>0</td>\n",
       "      <td>...</td>\n",
       "      <td>0</td>\n",
       "      <td>0</td>\n",
       "      <td>0</td>\n",
       "      <td>0</td>\n",
       "      <td>0</td>\n",
       "      <td>0</td>\n",
       "      <td>0</td>\n",
       "      <td>0</td>\n",
       "      <td>0</td>\n",
       "      <td>1</td>\n",
       "    </tr>\n",
       "  </tbody>\n",
       "</table>\n",
       "<p>6137 rows × 242 columns</p>\n",
       "</div>"
      ],
      "text/plain": [
       "       1st Block Jayanagar  1st Phase JP Nagar  2nd Phase Judicial Layout  \\\n",
       "0                        1                   0                          0   \n",
       "2                        1                   0                          0   \n",
       "4                        1                   0                          0   \n",
       "5                        1                   0                          0   \n",
       "6                        1                   0                          0   \n",
       "...                    ...                 ...                        ...   \n",
       "10282                    0                   0                          0   \n",
       "10283                    0                   0                          0   \n",
       "10286                    0                   0                          0   \n",
       "10287                    0                   0                          0   \n",
       "10290                    0                   0                          0   \n",
       "\n",
       "       2nd Stage Nagarbhavi  5th Block Hbr Layout  5th Phase JP Nagar  \\\n",
       "0                         0                     0                   0   \n",
       "2                         0                     0                   0   \n",
       "4                         0                     0                   0   \n",
       "5                         0                     0                   0   \n",
       "6                         0                     0                   0   \n",
       "...                     ...                   ...                 ...   \n",
       "10282                     0                     0                   0   \n",
       "10283                     0                     0                   0   \n",
       "10286                     0                     0                   0   \n",
       "10287                     0                     0                   0   \n",
       "10290                     0                     0                   0   \n",
       "\n",
       "       6th Phase JP Nagar  7th Phase JP Nagar  8th Phase JP Nagar  \\\n",
       "0                       0                   0                   0   \n",
       "2                       0                   0                   0   \n",
       "4                       0                   0                   0   \n",
       "5                       0                   0                   0   \n",
       "6                       0                   0                   0   \n",
       "...                   ...                 ...                 ...   \n",
       "10282                   0                   0                   0   \n",
       "10283                   0                   0                   0   \n",
       "10286                   0                   0                   0   \n",
       "10287                   0                   0                   0   \n",
       "10290                   0                   0                   0   \n",
       "\n",
       "       9th Phase JP Nagar  ...  Vishveshwarya Layout  Vishwapriya Layout  \\\n",
       "0                       0  ...                     0                   0   \n",
       "2                       0  ...                     0                   0   \n",
       "4                       0  ...                     0                   0   \n",
       "5                       0  ...                     0                   0   \n",
       "6                       0  ...                     0                   0   \n",
       "...                   ...  ...                   ...                 ...   \n",
       "10282                   0  ...                     0                   0   \n",
       "10283                   0  ...                     0                   0   \n",
       "10286                   0  ...                     0                   0   \n",
       "10287                   0  ...                     0                   0   \n",
       "10290                   0  ...                     0                   0   \n",
       "\n",
       "       Vittasandra  Whitefield  Yelachenahalli  Yelahanka  Yelahanka New Town  \\\n",
       "0                0           0               0          0                   0   \n",
       "2                0           0               0          0                   0   \n",
       "4                0           0               0          0                   0   \n",
       "5                0           0               0          0                   0   \n",
       "6                0           0               0          0                   0   \n",
       "...            ...         ...             ...        ...                 ...   \n",
       "10282            0           0               0          0                   0   \n",
       "10283            0           0               0          0                   0   \n",
       "10286            0           0               0          0                   0   \n",
       "10287            0           0               0          0                   0   \n",
       "10290            0           0               0          0                   0   \n",
       "\n",
       "       Yelenahalli  Yeshwanthpur  other_location  \n",
       "0                0             0               0  \n",
       "2                0             0               0  \n",
       "4                0             0               0  \n",
       "5                0             0               0  \n",
       "6                0             0               0  \n",
       "...            ...           ...             ...  \n",
       "10282            0             0               1  \n",
       "10283            0             0               1  \n",
       "10286            0             0               1  \n",
       "10287            0             0               1  \n",
       "10290            0             0               1  \n",
       "\n",
       "[6137 rows x 242 columns]"
      ]
     },
     "execution_count": 68,
     "metadata": {},
     "output_type": "execute_result"
    }
   ],
   "source": [
    "loc"
   ]
  },
  {
   "cell_type": "code",
   "execution_count": 70,
   "metadata": {},
   "outputs": [],
   "source": [
    "df6 = df5.drop(\"location\" , axis=1)\n",
    "df6 = pd.concat([df6  ,loc] , axis=1)"
   ]
  },
  {
   "cell_type": "code",
   "execution_count": 71,
   "metadata": {},
   "outputs": [
    {
     "data": {
      "text/plain": [
       "(6137, 246)"
      ]
     },
     "execution_count": 71,
     "metadata": {},
     "output_type": "execute_result"
    }
   ],
   "source": [
    "df6.shape"
   ]
  },
  {
   "cell_type": "code",
   "execution_count": 72,
   "metadata": {},
   "outputs": [
    {
     "data": {
      "text/html": [
       "<div>\n",
       "<style scoped>\n",
       "    .dataframe tbody tr th:only-of-type {\n",
       "        vertical-align: middle;\n",
       "    }\n",
       "\n",
       "    .dataframe tbody tr th {\n",
       "        vertical-align: top;\n",
       "    }\n",
       "\n",
       "    .dataframe thead th {\n",
       "        text-align: right;\n",
       "    }\n",
       "</style>\n",
       "<table border=\"1\" class=\"dataframe\">\n",
       "  <thead>\n",
       "    <tr style=\"text-align: right;\">\n",
       "      <th></th>\n",
       "      <th>total_sqft</th>\n",
       "      <th>bath</th>\n",
       "      <th>price</th>\n",
       "      <th>bhk</th>\n",
       "      <th>1st Block Jayanagar</th>\n",
       "      <th>1st Phase JP Nagar</th>\n",
       "      <th>2nd Phase Judicial Layout</th>\n",
       "      <th>2nd Stage Nagarbhavi</th>\n",
       "      <th>5th Block Hbr Layout</th>\n",
       "      <th>5th Phase JP Nagar</th>\n",
       "      <th>...</th>\n",
       "      <th>Vishveshwarya Layout</th>\n",
       "      <th>Vishwapriya Layout</th>\n",
       "      <th>Vittasandra</th>\n",
       "      <th>Whitefield</th>\n",
       "      <th>Yelachenahalli</th>\n",
       "      <th>Yelahanka</th>\n",
       "      <th>Yelahanka New Town</th>\n",
       "      <th>Yelenahalli</th>\n",
       "      <th>Yeshwanthpur</th>\n",
       "      <th>other_location</th>\n",
       "    </tr>\n",
       "  </thead>\n",
       "  <tbody>\n",
       "    <tr>\n",
       "      <th>6869</th>\n",
       "      <td>1020.0</td>\n",
       "      <td>3.0</td>\n",
       "      <td>110.0</td>\n",
       "      <td>3</td>\n",
       "      <td>0</td>\n",
       "      <td>0</td>\n",
       "      <td>0</td>\n",
       "      <td>0</td>\n",
       "      <td>0</td>\n",
       "      <td>0</td>\n",
       "      <td>...</td>\n",
       "      <td>0</td>\n",
       "      <td>0</td>\n",
       "      <td>0</td>\n",
       "      <td>0</td>\n",
       "      <td>0</td>\n",
       "      <td>0</td>\n",
       "      <td>0</td>\n",
       "      <td>0</td>\n",
       "      <td>0</td>\n",
       "      <td>0</td>\n",
       "    </tr>\n",
       "    <tr>\n",
       "      <th>1784</th>\n",
       "      <td>1417.0</td>\n",
       "      <td>2.0</td>\n",
       "      <td>76.0</td>\n",
       "      <td>3</td>\n",
       "      <td>0</td>\n",
       "      <td>0</td>\n",
       "      <td>0</td>\n",
       "      <td>0</td>\n",
       "      <td>0</td>\n",
       "      <td>0</td>\n",
       "      <td>...</td>\n",
       "      <td>0</td>\n",
       "      <td>0</td>\n",
       "      <td>0</td>\n",
       "      <td>0</td>\n",
       "      <td>0</td>\n",
       "      <td>0</td>\n",
       "      <td>0</td>\n",
       "      <td>0</td>\n",
       "      <td>0</td>\n",
       "      <td>0</td>\n",
       "    </tr>\n",
       "  </tbody>\n",
       "</table>\n",
       "<p>2 rows × 246 columns</p>\n",
       "</div>"
      ],
      "text/plain": [
       "      total_sqft  bath  price  bhk  1st Block Jayanagar  1st Phase JP Nagar  \\\n",
       "6869      1020.0   3.0  110.0    3                    0                   0   \n",
       "1784      1417.0   2.0   76.0    3                    0                   0   \n",
       "\n",
       "      2nd Phase Judicial Layout  2nd Stage Nagarbhavi  5th Block Hbr Layout  \\\n",
       "6869                          0                     0                     0   \n",
       "1784                          0                     0                     0   \n",
       "\n",
       "      5th Phase JP Nagar  ...  Vishveshwarya Layout  Vishwapriya Layout  \\\n",
       "6869                   0  ...                     0                   0   \n",
       "1784                   0  ...                     0                   0   \n",
       "\n",
       "      Vittasandra  Whitefield  Yelachenahalli  Yelahanka  Yelahanka New Town  \\\n",
       "6869            0           0               0          0                   0   \n",
       "1784            0           0               0          0                   0   \n",
       "\n",
       "      Yelenahalli  Yeshwanthpur  other_location  \n",
       "6869            0             0               0  \n",
       "1784            0             0               0  \n",
       "\n",
       "[2 rows x 246 columns]"
      ]
     },
     "execution_count": 72,
     "metadata": {},
     "output_type": "execute_result"
    }
   ],
   "source": [
    "df6.sample(2)"
   ]
  },
  {
   "cell_type": "code",
   "execution_count": 73,
   "metadata": {},
   "outputs": [
    {
     "data": {
      "text/plain": [
       "(6137, 245)"
      ]
     },
     "execution_count": 73,
     "metadata": {},
     "output_type": "execute_result"
    }
   ],
   "source": [
    "df6.drop(\"other_location\" , axis=1 , inplace=True)\n",
    "df6.shape"
   ]
  },
  {
   "cell_type": "code",
   "execution_count": 74,
   "metadata": {},
   "outputs": [],
   "source": [
    "X = df6.drop(\"price\" , axis=1)"
   ]
  },
  {
   "cell_type": "code",
   "execution_count": 75,
   "metadata": {},
   "outputs": [],
   "source": [
    "from sklearn.model_selection import train_test_split\n",
    "X_train , X_test , y_train , y_test = train_test_split(X.values , df6[\"price\"] , test_size=0.2)"
   ]
  },
  {
   "cell_type": "code",
   "execution_count": 77,
   "metadata": {},
   "outputs": [],
   "source": [
    "from sklearn.model_selection import ShuffleSplit\n",
    "from sklearn.model_selection import cross_val_score\n",
    "\n",
    "cv = ShuffleSplit(n_splits=5 , test_size=0.2)\n",
    "# cross_val_score(LinearRegression() , X , df6[\"price\"] , cv=cv)"
   ]
  },
  {
   "cell_type": "code",
   "execution_count": 79,
   "metadata": {},
   "outputs": [
    {
     "data": {
      "text/html": [
       "<div>\n",
       "<style scoped>\n",
       "    .dataframe tbody tr th:only-of-type {\n",
       "        vertical-align: middle;\n",
       "    }\n",
       "\n",
       "    .dataframe tbody tr th {\n",
       "        vertical-align: top;\n",
       "    }\n",
       "\n",
       "    .dataframe thead th {\n",
       "        text-align: right;\n",
       "    }\n",
       "</style>\n",
       "<table border=\"1\" class=\"dataframe\">\n",
       "  <thead>\n",
       "    <tr style=\"text-align: right;\">\n",
       "      <th></th>\n",
       "      <th>model</th>\n",
       "      <th>best_score</th>\n",
       "      <th>best_params</th>\n",
       "    </tr>\n",
       "  </thead>\n",
       "  <tbody>\n",
       "    <tr>\n",
       "      <th>0</th>\n",
       "      <td>linear_regression</td>\n",
       "      <td>0.856653</td>\n",
       "      <td>{}</td>\n",
       "    </tr>\n",
       "    <tr>\n",
       "      <th>1</th>\n",
       "      <td>lasso</td>\n",
       "      <td>0.719856</td>\n",
       "      <td>{'alpha': 1, 'selection': 'random'}</td>\n",
       "    </tr>\n",
       "    <tr>\n",
       "      <th>2</th>\n",
       "      <td>decision_tree</td>\n",
       "      <td>0.741148</td>\n",
       "      <td>{'criterion': 'friedman_mse', 'splitter': 'best'}</td>\n",
       "    </tr>\n",
       "  </tbody>\n",
       "</table>\n",
       "</div>"
      ],
      "text/plain": [
       "               model  best_score  \\\n",
       "0  linear_regression    0.856653   \n",
       "1              lasso    0.719856   \n",
       "2      decision_tree    0.741148   \n",
       "\n",
       "                                         best_params  \n",
       "0                                                 {}  \n",
       "1                {'alpha': 1, 'selection': 'random'}  \n",
       "2  {'criterion': 'friedman_mse', 'splitter': 'best'}  "
      ]
     },
     "execution_count": 79,
     "metadata": {},
     "output_type": "execute_result"
    }
   ],
   "source": [
    "from sklearn.model_selection import GridSearchCV\n",
    "\n",
    "from sklearn.linear_model import Lasso\n",
    "from sklearn.tree import DecisionTreeRegressor\n",
    "from sklearn.linear_model import LinearRegression\n",
    "\n",
    "def find_best_model_using_gridsearchcv(X,y):\n",
    "    algos = {\n",
    "        'linear_regression' : {\n",
    "            'model': LinearRegression(),\n",
    "            'params': {\n",
    "               \n",
    "            }\n",
    "        },\n",
    "        'lasso': {\n",
    "            'model': Lasso(),\n",
    "            'params': {\n",
    "                'alpha': [1,2],\n",
    "                'selection': ['random', 'cyclic']\n",
    "            }\n",
    "        },\n",
    "        'decision_tree': {\n",
    "            'model': DecisionTreeRegressor(),\n",
    "            'params': {\n",
    "                'criterion' : ['friedman_mse'],\n",
    "                'splitter': ['best','random']\n",
    "            }\n",
    "        }\n",
    "    }\n",
    "    scores = []\n",
    "    cv = ShuffleSplit(n_splits=5, test_size=0.2, random_state=0)\n",
    "    for algo_name, config in algos.items():\n",
    "        gs =  GridSearchCV(config['model'], config['params'], cv=cv, return_train_score=False)\n",
    "        gs.fit(X,y)\n",
    "        scores.append({\n",
    "            'model': algo_name,\n",
    "            'best_score': gs.best_score_,\n",
    "            'best_params': gs.best_params_\n",
    "        })\n",
    "\n",
    "    return pd.DataFrame(scores,columns=['model','best_score','best_params'])\n",
    "\n",
    "find_best_model_using_gridsearchcv(X , df6[\"price\"] )"
   ]
  },
  {
   "cell_type": "code",
   "execution_count": 82,
   "metadata": {},
   "outputs": [
    {
     "data": {
      "text/html": [
       "<style>#sk-container-id-1 {color: black;background-color: white;}#sk-container-id-1 pre{padding: 0;}#sk-container-id-1 div.sk-toggleable {background-color: white;}#sk-container-id-1 label.sk-toggleable__label {cursor: pointer;display: block;width: 100%;margin-bottom: 0;padding: 0.3em;box-sizing: border-box;text-align: center;}#sk-container-id-1 label.sk-toggleable__label-arrow:before {content: \"▸\";float: left;margin-right: 0.25em;color: #696969;}#sk-container-id-1 label.sk-toggleable__label-arrow:hover:before {color: black;}#sk-container-id-1 div.sk-estimator:hover label.sk-toggleable__label-arrow:before {color: black;}#sk-container-id-1 div.sk-toggleable__content {max-height: 0;max-width: 0;overflow: hidden;text-align: left;background-color: #f0f8ff;}#sk-container-id-1 div.sk-toggleable__content pre {margin: 0.2em;color: black;border-radius: 0.25em;background-color: #f0f8ff;}#sk-container-id-1 input.sk-toggleable__control:checked~div.sk-toggleable__content {max-height: 200px;max-width: 100%;overflow: auto;}#sk-container-id-1 input.sk-toggleable__control:checked~label.sk-toggleable__label-arrow:before {content: \"▾\";}#sk-container-id-1 div.sk-estimator input.sk-toggleable__control:checked~label.sk-toggleable__label {background-color: #d4ebff;}#sk-container-id-1 div.sk-label input.sk-toggleable__control:checked~label.sk-toggleable__label {background-color: #d4ebff;}#sk-container-id-1 input.sk-hidden--visually {border: 0;clip: rect(1px 1px 1px 1px);clip: rect(1px, 1px, 1px, 1px);height: 1px;margin: -1px;overflow: hidden;padding: 0;position: absolute;width: 1px;}#sk-container-id-1 div.sk-estimator {font-family: monospace;background-color: #f0f8ff;border: 1px dotted black;border-radius: 0.25em;box-sizing: border-box;margin-bottom: 0.5em;}#sk-container-id-1 div.sk-estimator:hover {background-color: #d4ebff;}#sk-container-id-1 div.sk-parallel-item::after {content: \"\";width: 100%;border-bottom: 1px solid gray;flex-grow: 1;}#sk-container-id-1 div.sk-label:hover label.sk-toggleable__label {background-color: #d4ebff;}#sk-container-id-1 div.sk-serial::before {content: \"\";position: absolute;border-left: 1px solid gray;box-sizing: border-box;top: 0;bottom: 0;left: 50%;z-index: 0;}#sk-container-id-1 div.sk-serial {display: flex;flex-direction: column;align-items: center;background-color: white;padding-right: 0.2em;padding-left: 0.2em;position: relative;}#sk-container-id-1 div.sk-item {position: relative;z-index: 1;}#sk-container-id-1 div.sk-parallel {display: flex;align-items: stretch;justify-content: center;background-color: white;position: relative;}#sk-container-id-1 div.sk-item::before, #sk-container-id-1 div.sk-parallel-item::before {content: \"\";position: absolute;border-left: 1px solid gray;box-sizing: border-box;top: 0;bottom: 0;left: 50%;z-index: -1;}#sk-container-id-1 div.sk-parallel-item {display: flex;flex-direction: column;z-index: 1;position: relative;background-color: white;}#sk-container-id-1 div.sk-parallel-item:first-child::after {align-self: flex-end;width: 50%;}#sk-container-id-1 div.sk-parallel-item:last-child::after {align-self: flex-start;width: 50%;}#sk-container-id-1 div.sk-parallel-item:only-child::after {width: 0;}#sk-container-id-1 div.sk-dashed-wrapped {border: 1px dashed gray;margin: 0 0.4em 0.5em 0.4em;box-sizing: border-box;padding-bottom: 0.4em;background-color: white;}#sk-container-id-1 div.sk-label label {font-family: monospace;font-weight: bold;display: inline-block;line-height: 1.2em;}#sk-container-id-1 div.sk-label-container {text-align: center;}#sk-container-id-1 div.sk-container {/* jupyter's `normalize.less` sets `[hidden] { display: none; }` but bootstrap.min.css set `[hidden] { display: none !important; }` so we also need the `!important` here to be able to override the default hidden behavior on the sphinx rendered scikit-learn.org. See: https://github.com/scikit-learn/scikit-learn/issues/21755 */display: inline-block !important;position: relative;}#sk-container-id-1 div.sk-text-repr-fallback {display: none;}</style><div id=\"sk-container-id-1\" class=\"sk-top-container\"><div class=\"sk-text-repr-fallback\"><pre>LinearRegression()</pre><b>In a Jupyter environment, please rerun this cell to show the HTML representation or trust the notebook. <br />On GitHub, the HTML representation is unable to render, please try loading this page with nbviewer.org.</b></div><div class=\"sk-container\" hidden><div class=\"sk-item\"><div class=\"sk-estimator sk-toggleable\"><input class=\"sk-toggleable__control sk-hidden--visually\" id=\"sk-estimator-id-1\" type=\"checkbox\" checked><label for=\"sk-estimator-id-1\" class=\"sk-toggleable__label sk-toggleable__label-arrow\">LinearRegression</label><div class=\"sk-toggleable__content\"><pre>LinearRegression()</pre></div></div></div></div></div>"
      ],
      "text/plain": [
       "LinearRegression()"
      ]
     },
     "execution_count": 82,
     "metadata": {},
     "output_type": "execute_result"
    }
   ],
   "source": [
    "model = LinearRegression()\n",
    "model.fit(X_train , y_train)"
   ]
  },
  {
   "cell_type": "code",
   "execution_count": 83,
   "metadata": {},
   "outputs": [],
   "source": [
    "def predict_price(location , total_sqft , bath , bhk):\n",
    "    arr = np.zeros(len(X.columns))\n",
    "    a = np.where( X.columns == location)[0]\n",
    "    arr[0] = total_sqft\n",
    "    arr[1] = bath\n",
    "    arr[2] = bhk\n",
    "    if len(a) == 1:\n",
    "        arr[a[0]] = 1\n",
    "    return model.predict([arr])[0]    "
   ]
  },
  {
   "cell_type": "code",
   "execution_count": 84,
   "metadata": {},
   "outputs": [
    {
     "data": {
      "text/plain": [
       "235.07339777382734"
      ]
     },
     "execution_count": 84,
     "metadata": {},
     "output_type": "execute_result"
    }
   ],
   "source": [
    "predict_price('1st Block ',2850.0, 4.0, 4)"
   ]
  },
  {
   "cell_type": "code",
   "execution_count": 85,
   "metadata": {},
   "outputs": [],
   "source": [
    "import pickle\n",
    "with open('price_prediction_model.pickle','wb') as f:\n",
    "    pickle.dump(model,f)"
   ]
  },
  {
   "cell_type": "code",
   "execution_count": 86,
   "metadata": {},
   "outputs": [],
   "source": [
    "import json\n",
    "columns = {\n",
    "    'data_columns' : [col.lower() for col in X.columns]\n",
    "}\n",
    "with open(\"columns.json\",\"w\") as f:\n",
    "    f.write(json.dumps(columns))"
   ]
  },
  {
   "cell_type": "code",
   "execution_count": null,
   "metadata": {},
   "outputs": [],
   "source": []
  }
 ],
 "metadata": {
  "kernelspec": {
   "display_name": "Python 3",
   "language": "python",
   "name": "python3"
  },
  "language_info": {
   "codemirror_mode": {
    "name": "ipython",
    "version": 3
   },
   "file_extension": ".py",
   "mimetype": "text/x-python",
   "name": "python",
   "nbconvert_exporter": "python",
   "pygments_lexer": "ipython3",
   "version": "3.10.5"
  },
  "orig_nbformat": 4
 },
 "nbformat": 4,
 "nbformat_minor": 2
}
